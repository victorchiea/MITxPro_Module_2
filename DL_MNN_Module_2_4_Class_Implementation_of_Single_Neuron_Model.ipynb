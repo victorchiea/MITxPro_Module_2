{
  "cells": [
    {
      "cell_type": "markdown",
      "metadata": {
        "id": "view-in-github",
        "colab_type": "text"
      },
      "source": [
        "<a href=\"https://colab.research.google.com/github/victorchiea/MITxPro_Module_2/blob/main/DL_MNN_Module_2_4_Class_Implementation_of_Single_Neuron_Model.ipynb\" target=\"_parent\"><img src=\"https://colab.research.google.com/assets/colab-badge.svg\" alt=\"Open In Colab\"/></a>"
      ]
    },
    {
      "cell_type": "markdown",
      "metadata": {
        "id": "DVFP2UXMEFMF"
      },
      "source": [
        "# **Module 2: Class Implementation of Single Neuron Model**\n",
        "\n",
        "## Introduction\n",
        "Now that we have introduced classes as a powerful abstraction in Python, we will revisit the Single Neuron Models we implemented previously. By using classes to make our implentation, we are one step closer to the deep learning libraries we will be using going forward.\n",
        "\n",
        "Recall our single neuron model applied to a regression task where we are predicting some real value $\\hat{y}^{(i)} = f(x^{(i)})$ for some datapoint $i$ (where we have used the superscript notation $(i)$ to indicate which of $n$ datapoints we are considering).\n",
        "\n",
        "We will take the functions we developed previously that implement the forward calculation of $y$ and its gradient with respect to weights, but we will be making them methods of a Single Neuron Model Python class. This will allow us to keep the weights stored as member variables for our specific class instance as well.\n",
        "\n",
        "## NumPy\n",
        "\n",
        "In addition to turning our models into classes, we are also going to use the [NumPy Library](https://numpy.org/) to represent our vectors instead of standard Python Lists. NumPy gives us many mathematical operations on vectors and arrays, and provides benefits over standard lists including the ability to write more concise code and performance improvements. Below, we include a brief introduction to the NumPy functionality we will be using in this notebook. If you are looking for a more thorough introduction or additional resources please check out numpy.org's tutorials [here](https://numpy.org/devdocs/user/quickstart.html).\n",
        "\n"
      ]
    },
    {
      "cell_type": "code",
      "execution_count": null,
      "metadata": {
        "colab": {
          "base_uri": "https://localhost:8080/"
        },
        "id": "6DbTfloqjkeH",
        "outputId": "8c10fb89-e176-4004-b991-281ac088fd83"
      },
      "outputs": [
        {
          "output_type": "stream",
          "name": "stdout",
          "text": [
            "x: [1 2 3 4]\n",
            "y: [1, 2, 3, 4]\n",
            "z: [1 2 3 4]\n",
            "Notice the difference between the numpy arrays x and z and the python list y.\n",
            "Shape of x: (4,)\n",
            "A multidimensional array\n",
            "[[1. 1. 1.]\n",
            " [1. 1. 1.]]\n",
            "Shape of a: (2, 3)\n",
            "The dot product of x and transpose of w is: 6\n",
            "The value of w_new: [-0.01 -0.02]\n"
          ]
        }
      ],
      "source": [
        "# First we need to import the NumPy Library, typically we use the np abbreviation\n",
        "import numpy as np\n",
        "\n",
        "# You can create a numpy array from a list\n",
        "x = np.array([1,2,3,4])\n",
        "y = [1,2,3,4]\n",
        "z = np.array(y)\n",
        "print(\"x:\", x)\n",
        "print(\"y:\", y)\n",
        "print(\"z:\", z)\n",
        "print(\"Notice the difference between the numpy arrays x and z and the python list y.\")\n",
        "\n",
        "# Instead of using a length property like lists, numpy is able to represent\n",
        "# multi-dimensional arrays, we can see the dimensions by using the shape property\n",
        "print(\"Shape of x:\", x.shape)\n",
        "# Here we are creating a multi-dimensional array that is 2x3 filled with 1.'s\n",
        "a = np.ones((2,3))\n",
        "print(\"A multidimensional array\")\n",
        "print(a)\n",
        "print(\"Shape of a:\", a.shape)\n",
        "\n",
        "# One of the great things about numpy is that it allows us to perform operations\n",
        "# on these vectors (or more generally, arrays) without for loops\n",
        "x = np.array([1,2])\n",
        "w = np.array([2,2])\n",
        "z = np.dot(x,w.T)\n",
        "print(\"The dot product of x and transpose of w is:\", z)\n",
        "\n",
        "# We can also perform subtraction and scalar multiplication\n",
        "learning_rate = .01\n",
        "# Since we are going to perform subtraction with floats, make sure you initialize\n",
        "# your w_new correctly with float 0. and not the integer 0\n",
        "w_new = np.array([0.,0.])\n",
        "## w_new = np.array([0,0]) This won't run!\n",
        "w_new -= learning_rate * x\n",
        "\n",
        "print(\"The value of w_new:\", w_new)\n",
        "\n",
        "# This should cover all of the numpy functionality we are using in this notebook. If\n",
        "# you would like a more thorough introduction please visit:\n",
        "# https://numpy.org/devdocs/user/quickstart.html"
      ]
    },
    {
      "cell_type": "markdown",
      "metadata": {
        "id": "fEtomsjjlyOm"
      },
      "source": [
        "## Single Neuron Models\n",
        "\n",
        "Here is a refresher on the single neuron model.\n",
        "\n",
        "Our single neuron models consist of a single neuron or node, that sums weighted multiplications of the features of an input sample, adds a bias term, and then passes that sum through some activation function. For regression, we will use a linear activation function, i.e., just the identity function. For classification, we will use a sigmoid function.\n",
        "\n",
        "More specifically, our single neuron model will take the dot product of an input training example $x^{(i)}$ with some learned weights $w$ and adding a learned bias $w_0$ to produce a pre-activation $z$. We then apply some activation function $f$ to $z$ to produce an activation $a$, which for this single neuron will be our output prediction $\\hat{y}$. Importantly, $x$ and $w$ can be vectors, which we will now represent as NumPy arrays in our Python code. We will use a subscript notation, e.g., $x_j$ to indicate feature $j$ within data input $x$, where $j$ goes from 1 to $m$ total features.\n",
        "\n",
        "The following is the formal mathematical notation for our single neuron model:  \n",
        "\n",
        "$$\n",
        "z = x \\cdot w^T + w_0\\\\\n",
        "a = f(z) \\\\\n",
        "y = a\n",
        "$$\n",
        "\n",
        "where $x$ and $w$ are row vectors, and the activation function $f$ operates element-wise on the vector $z.$ to produce a scalar $a.$\n",
        "\n",
        "## Single Neuron Regression Model:\n",
        "\n",
        "In the following code block, we implement the necessary setup for a single neuron regression model class in Python. This will use a linear function $f(z) = z$ as the activation function and is very similar in functionality to what we created in the last notebook."
      ]
    },
    {
      "cell_type": "code",
      "execution_count": null,
      "metadata": {
        "id": "HcJ88E3nC7Dw"
      },
      "outputs": [],
      "source": [
        "# First we need to import packages that will be used for visualization.\n",
        "# You can ignore this for now as we will explain further in a future notebook\n",
        "import numpy as np\n",
        "import math, random\n",
        "import matplotlib.pyplot as plt\n",
        "from mpl_toolkits import mplot3d\n",
        "\n",
        "class SingleNeuronRegressionModel():\n",
        "    def __init__(self, in_features):\n",
        "        # Create/initialize weights for the number of features\n",
        "        self.w = np.zeros(in_features)\n",
        "        self.w_0 = 0.\n",
        "\n",
        "    def forward(self, x):\n",
        "        if (x.shape != self.w.shape):\n",
        "            raise ValueError(\"shape of input x and weights w should be same\")\n",
        "\n",
        "        # Calculate the pre-activation z\n",
        "        z = x @ self.w.T + self.w_0\n",
        "\n",
        "        # Apply the activation function, and return\n",
        "        a = self.linear(z)\n",
        "        return a\n",
        "\n",
        "    # simple linear activation function: just returns identity\n",
        "    def linear(self, z):\n",
        "        return z"
      ]
    },
    {
      "cell_type": "code",
      "execution_count": null,
      "metadata": {
        "colab": {
          "base_uri": "https://localhost:8080/"
        },
        "id": "FTvjSBPuO03j",
        "outputId": "47462836-f20b-4832-a17c-86258f793645"
      },
      "outputs": [
        {
          "output_type": "stream",
          "name": "stdout",
          "text": [
            "input [1 2] => output 3\n"
          ]
        }
      ],
      "source": [
        "# Test model output for a single 2D datapoint:\n",
        "regression_model = SingleNeuronRegressionModel(in_features=2)\n",
        "regression_model.w = np.array([5, 3])\n",
        "regression_model.w_0 = -8\n",
        "\n",
        "x = np.array([1,2])\n",
        "y = regression_model.forward(x)\n",
        "print(\"input\", x, \"=> output\", y)"
      ]
    },
    {
      "cell_type": "markdown",
      "metadata": {
        "id": "r9wO1DCgbpSu"
      },
      "source": [
        "## Training our regression model - Gradient Descent\n",
        "\n",
        "Now that we have implemented a regression model class, we want to implement the same training algorithm as before. Recall that we would like to minimize a cost function, $J$, where $J$ is the total *loss* $L$ over our training data:\n",
        "\n",
        "$$ J = \\sum_i^n L(\\hat{y}^{(i)}, y^{(i)})$$\n",
        "\n",
        "For this simple example, we will use squared error (SE) loss where $\\epsilon^{(i)}$ is our error for any given sample $i$:\n",
        "\n",
        "$$ L_{SE}(\\hat{y}^{(i)}, y^{(i)}) = \\frac{1}{2} (\\hat{y_i} - y_i)^2 = \\frac{1}{2} \\epsilon^2 $$\n",
        "\n",
        "\n",
        "Additionally, recall the training process we implemented in the last notebook.\n",
        "* We will perform the training loop for a specified number of iterations through our dataset, also known as epochs.\n",
        "* In each epoch, we will look at each input and output $(x^{(i)},y^{(i)})$ pair. For each pair, we:\n",
        "\n",
        "  * Calculate the loss $L$ between the correct value $y$ and the predicted value $\\hat{y}$\n",
        "  * Calculate the gradient of the loss with respect to each weight, and\n",
        "  * Update the weights based on the gradient and the learning rate, $\\eta$:\n",
        "  \n",
        "$$ w_{j,new} = w_j - \\eta \\frac{dJ}{dw_j}$$\n",
        "\n",
        "\n",
        "Although we are implementing our Single Neuron Model in a class, the basic concept of gradient based learning stays the same. We are still nudging each weight along the gradient of the cost funtion with respect to that weight. However the location of where those weights is stored is different and within each instance of our class.\n",
        "\n",
        "### Gradient descent with squared error (SE) loss\n",
        "\n",
        "We have repeated the gradient descent for Squared Error Loss here as a reference:\n",
        "\n",
        "In the case of our squared error loss, for any sample data point $i$ this works out to:\n",
        "\n",
        "$$ \\frac{dJ}{dw_j} = \\frac{dL_{SE}}{dw_j}  \n",
        "  = \\frac{dL_{SE}}{d\\hat{y}} \\frac{d\\hat{y}}{dw_j}\n",
        "  = (\\hat{y} - y) \\frac{d\\hat{y}}{dw_j} $$\n",
        "\n",
        "Importantly, we see that we need to be able to calculate the gradient of the model output $\\hat{y}$ with respect to each weight:\n",
        "\n",
        "$$ \\frac{d\\hat{y}}{dw_j} = \\frac{df(z)}{dz} \\frac{dz}{dw_j} $$\n",
        "\n",
        "For the linear activation function $f(z) = z$, the first term is very simple: $\\frac{df(z)}{dz} = 1$.\n",
        "\n",
        "For the second term, recall that\n",
        "\n",
        "$$ z = w_0 + x_1 \\cdot w_1 + \\cdots + x_j \\cdot w_j + \\dots + x_m \\cdot w_m $$\n",
        "\n",
        "so $\\frac{dz}{dw_j} = x_j$, except for $w_0$, where $\\frac{dz}{dw_0} = 1.$\n",
        "\n",
        "### Gradient descent implementation -- squared error loss:"
      ]
    },
    {
      "cell_type": "code",
      "execution_count": null,
      "metadata": {
        "id": "L6uSsA98ffTq"
      },
      "outputs": [],
      "source": [
        "# First we will update our class with a gradient method.\n",
        "class SingleNeuronRegressionModel():\n",
        "    def __init__(self, in_features):\n",
        "        # Create/initialize weights for the number of features\n",
        "        self.w = np.zeros(in_features)\n",
        "        self.w_0 = 0.\n",
        "\n",
        "    def forward(self, x):\n",
        "        # Calculate the pre-activation z\n",
        "        z = x @ self.w.T + self.w_0\n",
        "\n",
        "        # Apply the activation function, and return\n",
        "        a = self.linear(z)\n",
        "        return a\n",
        "\n",
        "    # simple linear activation function: just returns identity\n",
        "    def linear(self, z):\n",
        "        return z\n",
        "\n",
        "    # calculate and save gradient of our output with respect to\n",
        "    # each weight for our linear activation\n",
        "    def gradient(self, x):\n",
        "        self.grad_w = x\n",
        "        self.grad_w_0 = 1.\n",
        "\n",
        "    # update weights based on gradients and learning rate\n",
        "    def update(self, grad_loss, learning_rate):\n",
        "        # Here grad_loss is gradient of the loss w.r.t. output.\n",
        "        # This is provided externally, based on the loss function\n",
        "        # being used for training of this model.\n",
        "        model.w   -= grad_loss * self.grad_w   * learning_rate\n",
        "        model.w_0 -= grad_loss * self.grad_w_0 * learning_rate"
      ]
    },
    {
      "cell_type": "code",
      "execution_count": null,
      "metadata": {
        "id": "O556io8kkYx2"
      },
      "outputs": [],
      "source": [
        "# Now our training function takes an instance of our single-neuron\n",
        "# model as an argument.\n",
        "#\n",
        "# We also organize our input_data as an array, num_samples x in_features,\n",
        "# and our (univariate) output data as an array with dim num_samples.\n",
        "def train_model_SE_loss(model, input_data, output_data,\n",
        "                        learning_rate, num_epochs):\n",
        "    num_samples = len(input_data)\n",
        "    for epoch in range(1, num_epochs+1):\n",
        "        total_loss = 0 #keep track of total loss across the data set\n",
        "\n",
        "        for i in range(num_samples):\n",
        "            x = input_data[i,...]\n",
        "            y = output_data[i]\n",
        "            y_predicted = model.forward(x)\n",
        "\n",
        "            # loss function\n",
        "            error = y_predicted - y\n",
        "            loss = (error**2)/2\n",
        "            total_loss += loss\n",
        "\n",
        "            # gradient of our prediction w.r.t. weights\n",
        "            model.gradient(x)\n",
        "\n",
        "            # gradient of loss w.r.t. prediction, for SE\n",
        "            grad_loss = error\n",
        "\n",
        "            # update our model based on gradients\n",
        "            model.update(grad_loss, learning_rate)\n",
        "\n",
        "        report_every = max(1, num_epochs // 10)\n",
        "        if epoch == 1 or epoch % report_every == 0: #every few epochs, report\n",
        "            print(\"epoch\", epoch, \"has total loss\", total_loss)"
      ]
    },
    {
      "cell_type": "code",
      "execution_count": null,
      "metadata": {
        "id": "pl38K2NMkYx3"
      },
      "outputs": [],
      "source": [
        "# We will use this function to evaluate how well our trained regression\n",
        "# model perfoms. This will calculate the mean square error over our data.\n",
        "def evaluate_regression_accuracy(model, input_data, output_data):\n",
        "    total_loss = 0\n",
        "    num_samples = len(input_data)\n",
        "    for i in range(num_samples):\n",
        "        x = input_data[i,...]\n",
        "        y = output_data[i]\n",
        "        y_predicted = model.forward(x)\n",
        "        error = y_predicted - y\n",
        "        total_loss += (error**2)/2\n",
        "    accuracy = total_loss / num_samples\n",
        "    print(\"Our model has mean square error of\", accuracy)\n",
        "    return accuracy"
      ]
    },
    {
      "cell_type": "markdown",
      "metadata": {
        "id": "aHzwcsnQkV6E"
      },
      "source": [
        "## Single Neuron Regression Example\n",
        "\n",
        "Now that we have our regression model function and our training function, all that's left to do is call each of those on a dataset! Below, we will train the single neuron on the same toy dataset as our initial function implementation and visualize the fit."
      ]
    },
    {
      "cell_type": "code",
      "execution_count": null,
      "metadata": {
        "colab": {
          "base_uri": "https://localhost:8080/",
          "height": 265
        },
        "id": "IiZRKTyjk21f",
        "outputId": "0cb364ec-db16-45c3-a416-69d28d3746b5"
      },
      "outputs": [
        {
          "output_type": "display_data",
          "data": {
            "image/png": "[encoded data removed]",
            "text/plain": [
              "<Figure size 432x288 with 1 Axes>"
            ]
          },
          "metadata": {
            "needs_background": "light"
          }
        }
      ],
      "source": [
        "# Here we have a simple 1D set of 9 input data samples (each\n",
        "# sample having an x input with 1 feature), and corresponding\n",
        "# y response.\n",
        "X_1D = np.array([[1], [-2], [3], [4.5], [0], [-4], [-1], [4], [-1]])\n",
        "Y_1D = np.array([4,   3,    6,   8,     2,   -3,   -2,   7,   2.5])\n",
        "\n",
        "# This utility function will allow us to visualize a given 1D dataset.\n",
        "# You don't need to understand this code right now.\n",
        "def plot_dataset_1D(x, y):\n",
        "    x_np = np.array(x)\n",
        "    y_np = np.array(y)\n",
        "    plt.scatter(x_np[...,0], y_np)\n",
        "\n",
        "# This utility function will allow us to visualize a 1D fit.\n",
        "def plot_fit_1D(X, model):\n",
        "    ylim = plt.ylim()\n",
        "    x_np = np.array(X)\n",
        "    y_pred = np.array([model.forward(x) for x in X])\n",
        "    plt.plot(x_np[...,0], y_pred, color=\"red\")\n",
        "    #plt.scatter(x_np[...,0], y_pred, color=\"red\")\n",
        "    plt.ylim(ylim)\n",
        "\n",
        "# Visualize the above dataset\n",
        "plot_dataset_1D(X_1D, Y_1D)\n",
        "#plot_fit_1D(X_1D, [1, 2], 0.5)"
      ]
    },
    {
      "cell_type": "markdown",
      "metadata": {
        "id": "2T_IpwYOO03o"
      },
      "source": [
        "### Learn weights for our regression model!"
      ]
    },
    {
      "cell_type": "code",
      "execution_count": null,
      "metadata": {
        "colab": {
          "base_uri": "https://localhost:8080/",
          "height": 525
        },
        "id": "GEoakGCIk9CO",
        "outputId": "6f0637e1-ca59-4c63-83c6-67bf04e58827"
      },
      "outputs": [
        {
          "output_type": "stream",
          "name": "stdout",
          "text": [
            "epoch 1 has total loss 75.15118164194563\n",
            "epoch 10 has total loss 15.91945696552539\n",
            "epoch 20 has total loss 12.004141710251176\n",
            "epoch 30 has total loss 11.347063947860194\n",
            "epoch 40 has total loss 11.234328476762197\n",
            "epoch 50 has total loss 11.213995802293752\n",
            "epoch 60 has total loss 11.209941165400341\n",
            "epoch 70 has total loss 11.20898841694995\n",
            "epoch 80 has total loss 11.208716012559227\n",
            "epoch 90 has total loss 11.208624266940278\n",
            "epoch 100 has total loss 11.208590113287263\n",
            "\n",
            "Final weights:\n",
            "[1.20325818] 2.4556015377014955\n",
            "Our model has mean square error of 1.2040220467545657\n"
          ]
        },
        {
          "output_type": "display_data",
          "data": {
            "image/png": "[encoded data removed]",
            "text/plain": [
              "<Figure size 432x288 with 1 Axes>"
            ]
          },
          "metadata": {
            "needs_background": "light"
          }
        }
      ],
      "source": [
        "# In this example we set the learning rate relatively small.\n",
        "learning_rate = 0.01\n",
        "epochs = 100\n",
        "\n",
        "# We create an instance of our SingleNeuronRegressionModel class\n",
        "# before starting the training process\n",
        "model = SingleNeuronRegressionModel(in_features=len(X_1D[0]))\n",
        "train_model_SE_loss(model, X_1D, Y_1D, learning_rate, epochs)\n",
        "print(\"\\nFinal weights:\")\n",
        "print(model.w, model.w_0)\n",
        "evaluate_regression_accuracy(model, X_1D, Y_1D)\n",
        "\n",
        "plot_dataset_1D(X_1D, Y_1D)\n",
        "plot_fit_1D(X_1D, model)"
      ]
    },
    {
      "cell_type": "markdown",
      "metadata": {
        "id": "48ZAAGeFO03p"
      },
      "source": [
        "# Single Neuron Model Base Class\n",
        "Looking at our first regression model class, it is not very flexible. We can only perform regression tasks with a linear activation function. To solve this, we will create a SingleNeuronModel class that will act as the parent class for different types of single neuron models, including classification.\n",
        "\n",
        "For each of these classes, the member variables $w$ and $w_0$ remain the same along with the **forward** function.\n",
        "\n",
        "The **activation** and **gradient** functions will be left unimplemented in our parent class and each child will need to implement them on their own! This is what differentiates our single neuron models. Below we include an implementation of the SingleNeuronModel parent class along with a reimplementation of SingleNeuronRegressionModel from above and an implementation of the SingleNeuronClassificationModel from the last notebook.\n",
        "\n",
        "## Single Neuron Classification Model\n",
        "For the classification problem, we will change the activation function to a sigmoid. Recall this squashes the pre-activation $z$ down to an activation (output) that is between 0 and 1. We also need to implement the gradient calculation, with this sigmoid activation function.\n",
        "\n",
        "### Gradient descent with negative log-likelihood (NLL) loss\n",
        "\n",
        "We have repeated the gradient descent for negative log-likelihood Loss here as a reference.\n",
        "\n",
        "In the case of our NLL loss, for any sample data point $i$, the gradient of $J$ with respect to weights works out to:\n",
        "\n",
        "$$ \\frac{dJ}{dw_j} = \\frac{dL_{NLL}}{dw_j}  \n",
        "  = \\frac{dL_{NLL}}{d\\hat{y}} \\frac{d\\hat{y}}{dw_j}  \n",
        "  = \\frac{dL_{NLL}}{d\\hat{y}} \\frac{d\\hat{y}}{dz} \\frac{dz}{dw_j}\n",
        "  = \\frac{dL_{NLL}}{d\\hat{y}} \\frac{d\\sigma{(z)}}{dz} \\frac{dz}{dw_j} .\n",
        " $$\n",
        "\n",
        "For the first term, we recall our definition $L_{NLL} = y \\log{\\hat{y}} + (1-y)\\log{(1-\\hat{y})}$,\n",
        "giving us the following after some algebra:\n",
        "\n",
        "$$ \\frac{dL_{NLL}}{d\\hat{y}} = \\frac{y-\\hat{y}}{\\hat{y}(1-\\hat{y})} .$$\n",
        "\n",
        "For the second term, our derivative of the activation function $\\sigma(z)$, we get:\n",
        "\n",
        "$$ \\frac{d\\sigma{(z)}}{dz} = \\sigma(z)(1-\\sigma(z)  = \\hat{y}(1-\\hat{y}).$$\n",
        "\n",
        "And finally, the last term is simply $\\frac{dz}{dw_j} = x$, except for $\\frac{dz}{dw_0} = 1$.\n"
      ]
    },
    {
      "cell_type": "code",
      "execution_count": null,
      "metadata": {
        "id": "2IOfXq8iO03p"
      },
      "outputs": [],
      "source": [
        "# Now we modify our implementation to create an abstract SingleNeuronModel\n",
        "# class that will be the parent of our regression and classification models\n",
        "class SingleNeuronModel():\n",
        "    def __init__(self, in_features):\n",
        "        #self.w = np.zeros(in_features)\n",
        "        #self.w_0 = 0.\n",
        "        # Better, we set initial weights to small normally distributed values.\n",
        "        self.w = 0.01 * np.random.randn(in_features)\n",
        "        self.w_0 = 0.01 * np.random.randn()\n",
        "        self.non_zero_tolerance = 1e-8 # add this to divisions to ensure we don't divide by 0\n",
        "\n",
        "\n",
        "    def forward(self, x):\n",
        "        # Calculate and save the pre-activation z\n",
        "        self.z = x @ self.w.T + self.w_0\n",
        "\n",
        "        # Apply the activation function, and return\n",
        "        self.a = self.activation(self.z)\n",
        "        return self.a\n",
        "\n",
        "    def activation(self, z):\n",
        "        raise ImplementationError(\"activation method should be implemented by subclass\")\n",
        "\n",
        "    # calculate and save gradient of our output with respect to weights\n",
        "    def gradient(self, x):\n",
        "        raise ImplementationError(\"gradient method should be implemented by subclass\")\n",
        "\n",
        "    # update weights based on gradients and learning rate\n",
        "    def update(self, grad_loss, learning_rate):\n",
        "        model.w   -= grad_loss * self.grad_w   * learning_rate\n",
        "        model.w_0 -= grad_loss * self.grad_w_0 * learning_rate\n",
        "\n",
        "\n",
        "# Reimplement our single neuron regression model using the base SingleNeuronModel\n",
        "class SingleNeuronRegressionModel(SingleNeuronModel):\n",
        "    # Linear activation function for regression model\n",
        "    def activation(self, z):\n",
        "        return z\n",
        "\n",
        "    # Gradient of output w.r.t. weights, for linear activation\n",
        "    def gradient(self, x):\n",
        "        self.grad_w = x\n",
        "        self.grad_w_0 = 1.\n",
        "\n",
        "\n",
        "# New implementation! Single neuron classification model\n",
        "class SingleNeuronClassificationModel(SingleNeuronModel):\n",
        "    # Sigmoid activation function for classification\n",
        "    def activation(self, z):\n",
        "        return 1 / (1 + np.exp(-z) + self.non_zero_tolerance)\n",
        "\n",
        "    # Gradient of output w.r.t. weights, for sigmoid activation\n",
        "    def gradient(self, x):\n",
        "        self.grad_w = self.a * (1-self.a) * x\n",
        "        self.grad_w_0 = self.a * (1-self.a)"
      ]
    },
    {
      "cell_type": "code",
      "execution_count": null,
      "metadata": {
        "colab": {
          "base_uri": "https://localhost:8080/"
        },
        "id": "W6_jZzW-kYx6",
        "outputId": "609e2102-9fa4-4661-8a42-ce0819f45808"
      },
      "outputs": [
        {
          "output_type": "stream",
          "name": "stdout",
          "text": [
            "input [1 2] => output 3\n"
          ]
        }
      ],
      "source": [
        "# Test: regression model output for a single 2D datapoint:\n",
        "model = SingleNeuronRegressionModel(in_features=2)\n",
        "model.w = np.array([5, 3])\n",
        "model.w_0 = -8\n",
        "\n",
        "x = np.array([1,2])\n",
        "y = model.forward(x)\n",
        "print(\"input\", x, \"=> output\", y)"
      ]
    },
    {
      "cell_type": "code",
      "execution_count": null,
      "metadata": {
        "colab": {
          "base_uri": "https://localhost:8080/"
        },
        "id": "xcx41NUfO03q",
        "outputId": "882a873e-fe07-4d7f-ccd8-0a44b0d43d3d"
      },
      "outputs": [
        {
          "output_type": "stream",
          "name": "stdout",
          "text": [
            "input [1 2] => output 0.9525741177484588\n"
          ]
        }
      ],
      "source": [
        "# Test: classification model output for a single 2D datapoint:\n",
        "model = SingleNeuronClassificationModel(in_features=2)\n",
        "model.w = np.array([5, 3])\n",
        "model.w_0 = -8\n",
        "\n",
        "x = np.array([1,2])\n",
        "y = model.forward(x)\n",
        "print(\"input\", x, \"=> output\", y)"
      ]
    },
    {
      "cell_type": "markdown",
      "metadata": {
        "id": "och7AjTaO03q"
      },
      "source": [
        "## Single Neuron Classification Example\n",
        "\n",
        "Now we turn to training the SingleNeuronClassificationModel.\n",
        "\n",
        "Recall that for the classification problem, we will use a different loss function: the negative log-likelihood (NLL) loss. This will enable our previous training code to still work, but for the classification rather than regression problem."
      ]
    },
    {
      "cell_type": "code",
      "execution_count": null,
      "metadata": {
        "id": "AwBTtV79kYx6"
      },
      "outputs": [],
      "source": [
        "# Training process, using negative log likelihood (NLL) loss --\n",
        "# appropriate for classification problems.\n",
        "\n",
        "def train_model_NLL_loss(model, input_data, output_data,\n",
        "                         learning_rate, num_epochs):\n",
        "    non_zero_tolerance = 1e-8 # add this to the log calculations to ensure we don't take the log of 0\n",
        "    num_samples = len(input_data)\n",
        "    for epoch in range(1, num_epochs+1):\n",
        "        total_loss = 0 #keep track of total loss across the data set\n",
        "\n",
        "        for i in range(num_samples):\n",
        "            x = input_data[i,...]\n",
        "            y = output_data[i]\n",
        "            y_predicted = model.forward(x)\n",
        "\n",
        "            # NLL loss function\n",
        "            loss = -(y * np.log(y_predicted + non_zero_tolerance) + (1-y) * np.log(1-y_predicted + non_zero_tolerance))\n",
        "            total_loss += loss\n",
        "\n",
        "            # gradient of prediction w.r.t. weights\n",
        "            model.gradient(x)\n",
        "\n",
        "            #gradient of loss w.r.t. prediction, for NLL\n",
        "            grad_loss = (y_predicted - y)/(y_predicted * (1-y_predicted))\n",
        "\n",
        "            # update our model based on gradients\n",
        "            model.update(grad_loss, learning_rate)\n",
        "\n",
        "        report_every = max(1, num_epochs // 10)\n",
        "        if epoch == 1 or epoch % report_every == 0: #every few epochs, report\n",
        "            print(\"epoch\", epoch, \"has total loss\", total_loss)"
      ]
    },
    {
      "cell_type": "code",
      "execution_count": null,
      "metadata": {
        "id": "9YB-nY44O03r"
      },
      "outputs": [],
      "source": [
        "# We will use this function to evaluate how well our trained classifier perfoms\n",
        "def evaluate_classification_accuracy(model, input_data, labels):\n",
        "    # Count the number of correctly classified samples given a set of weights\n",
        "    correct = 0\n",
        "    num_samples = len(input_data)\n",
        "    for i in range(num_samples):\n",
        "        x = input_data[i,...]\n",
        "        y = labels[i]\n",
        "        y_predicted = model.forward(x)\n",
        "        label_predicted = 1 if y_predicted > 0.5 else 0\n",
        "        if label_predicted == y:\n",
        "            correct += 1\n",
        "        else:\n",
        "            print(\"Misclassify\", x, y, \"with activation\", y_predicted)\n",
        "    accuracy = correct / num_samples\n",
        "    print(\"Our model predicted\", correct, \"out of\", num_samples,\n",
        "          \"correctly for\", accuracy*100, \"% accuracy\")\n",
        "    return accuracy"
      ]
    },
    {
      "cell_type": "code",
      "execution_count": null,
      "metadata": {
        "colab": {
          "base_uri": "https://localhost:8080/",
          "height": 265
        },
        "id": "kvlSgTxSO03r",
        "outputId": "6a005e69-312e-41cf-ee18-cfc137add264"
      },
      "outputs": [
        {
          "output_type": "display_data",
          "data": {
            "image/png": "[encoded data removed]",
            "text/plain": [
              "<Figure size 432x288 with 1 Axes>"
            ]
          },
          "metadata": {
            "needs_background": "light"
          }
        }
      ],
      "source": [
        "# Here we have a dataset of 2D linearly separable datapoints\n",
        "input_data = np.array([[1, 1],\n",
        "              [1, 5],\n",
        "              [-2, 3],\n",
        "              [3, -4],\n",
        "              [4.5, 2],\n",
        "              [0, 1],\n",
        "              [-4, -4],\n",
        "              [-1, 2],\n",
        "              [4, -7],\n",
        "              [-1, 8]])\n",
        "# And their corresponding labels\n",
        "labels = [1, 1, 0, 1, 1, 0, 0, 0, 1, 0]\n",
        "\n",
        "# This utility function will allow us to visualize a given 2D dataset.\n",
        "# You don't need to understand this code right now.\n",
        "def plot_dataset_2D(x, y):\n",
        "    x_np = np.array(x)\n",
        "    x_np.reshape(len(x), 2)\n",
        "    colors = []\n",
        "    for label in y:\n",
        "        if label == 0:\n",
        "            colors.append(\"red\")\n",
        "        else:\n",
        "            colors.append(\"blue\")\n",
        "    plt.scatter(x_np[...,0], x_np[...,1], color=colors)\n",
        "\n",
        "# This utility function will allow us to visualize a 2D decision boundary\n",
        "def plot_decision_boundary_2D(w, w_0):\n",
        "    ylim = plt.ylim()\n",
        "    x1 = np.arange(-5,6)\n",
        "    plt.plot(x1, (-w_0 - w[0]*x1)/w[1])\n",
        "    plt.ylim(ylim)\n",
        "\n",
        "# Visualize the above dataset\n",
        "plot_dataset_2D(input_data, labels)\n",
        "# plot_decision_boundary_2D([1, 0.0001], -0.5)"
      ]
    },
    {
      "cell_type": "markdown",
      "metadata": {
        "id": "mMjJfg2wjzWH"
      },
      "source": [
        "We can see from the plot that the dataset is linearly separable, meaning we can separate the positive samples (blue) from the negative samples (red) with a straight line.\n",
        "\n",
        "## Training Real Weights -- Single Neuron Classifier\n",
        "\n",
        "Now that we have our same toy dataset, we can train our new Single Neuron Classifier class the same way as before. Recall the three different knobs we can turn: the initial weights, the learning rate, and the number of epochs. Each of these impacts the model's ability to converge on a decision boundary.\n",
        "\n",
        "This should be extremely familiar as we are going to perform the same exercises, just with our new class implementation!\n",
        "\n",
        "\n",
        "Remember, as a general rule of thumb, we would like our learning rate to be small compared to the values of our input data, our initial weights relatively small (often, randomly initialized), and the number of epochs relatively large. There is a lot of research that has been done to determine the optimal settings for these parameters, so this is definitely a simplification."
      ]
    },
    {
      "cell_type": "code",
      "execution_count": null,
      "metadata": {
        "colab": {
          "base_uri": "https://localhost:8080/",
          "height": 525
        },
        "id": "1kjnSKmAO03s",
        "outputId": "6a2b66ba-48d1-45e2-d6b0-22751953ff9a"
      },
      "outputs": [
        {
          "output_type": "stream",
          "name": "stdout",
          "text": [
            "epoch 1 has total loss 6.486394520955817\n",
            "epoch 10 has total loss 3.1343246686939894\n",
            "epoch 20 has total loss 2.4327752858873684\n",
            "epoch 30 has total loss 2.1014660536690193\n",
            "epoch 40 has total loss 1.8913497593463415\n",
            "epoch 50 has total loss 1.7395953827187076\n",
            "epoch 60 has total loss 1.621849279601648\n",
            "epoch 70 has total loss 1.5262766100462197\n",
            "epoch 80 has total loss 1.4462613430692857\n",
            "epoch 90 has total loss 1.3777365383441147\n",
            "epoch 100 has total loss 1.3180257143644927\n",
            "\n",
            "Final weights:\n",
            "[ 1.6919515  -0.08177908] -0.17716848568409221\n",
            "Our model predicted 10 out of 10 correctly for 100.0 % accuracy\n"
          ]
        },
        {
          "output_type": "display_data",
          "data": {
            "image/png": "[encoded data removed]",
            "text/plain": [
              "<Figure size 432x288 with 1 Axes>"
            ]
          },
          "metadata": {
            "needs_background": "light"
          }
        }
      ],
      "source": [
        "# In this example we set the learning rate relatively small.\n",
        "# However, we only train for a few epochs which is not\n",
        "# enough to converge on an accurate classifier. You can play\n",
        "# with number of epochs (and/or learning_rate) to obtain an\n",
        "# accurate classifier.\n",
        "learning_rate = 0.01\n",
        "epochs = 10\n",
        "epochs = 100\n",
        "\n",
        "model = SingleNeuronClassificationModel(in_features=len(input_data[0]))\n",
        "\n",
        "train_model_NLL_loss(model, input_data, labels, learning_rate, epochs)\n",
        "print(\"\\nFinal weights:\")\n",
        "print(model.w, model.w_0)\n",
        "evaluate_classification_accuracy(model, input_data, labels)\n",
        "plot_dataset_2D(input_data, labels)\n",
        "plot_decision_boundary_2D(model.w, model.w_0)"
      ]
    },
    {
      "cell_type": "code",
      "execution_count": null,
      "metadata": {
        "colab": {
          "base_uri": "https://localhost:8080/"
        },
        "id": "Ff4PlgzWkYx8",
        "outputId": "451b1f83-f21f-4eb7-dcdb-6d38450da987"
      },
      "outputs": [
        {
          "output_type": "execute_result",
          "data": {
            "text/plain": [
              "array([0.80736893, 0.75136163, 0.02174453, 0.99465269, 0.99930648,\n",
              "       0.43562243, 0.00133451, 0.11581439, 0.99922593, 0.0742372 ])"
            ]
          },
          "metadata": {},
          "execution_count": 16
        }
      ],
      "source": [
        "# Try running model and loss on full X (input_data) and Y (labels)\n",
        "model.forward(input_data)"
      ]
    },
    {
      "cell_type": "code",
      "execution_count": null,
      "metadata": {
        "colab": {
          "base_uri": "https://localhost:8080/"
        },
        "id": "r80ddSr_kYx8",
        "outputId": "d3d54e4f-3810-4736-a8de-42df03faedd5"
      },
      "outputs": [
        {
          "output_type": "stream",
          "name": "stdout",
          "text": [
            "Our model has mean square error of 0.015406154480068199\n"
          ]
        },
        {
          "output_type": "execute_result",
          "data": {
            "text/plain": [
              "0.015406154480068199"
            ]
          },
          "metadata": {},
          "execution_count": 17
        }
      ],
      "source": [
        "evaluate_regression_accuracy(model, input_data, labels)"
      ]
    },
    {
      "cell_type": "markdown",
      "metadata": {
        "id": "V66l7_WLlJA4"
      },
      "source": [
        "## Your Turn: 3D Dataset\n",
        "\n",
        "Now that we have redone the exercises on our 2D datasets with our new class implementation, it's your turn to do the same with the 3D dataset!"
      ]
    },
    {
      "cell_type": "code",
      "execution_count": null,
      "metadata": {
        "colab": {
          "base_uri": "https://localhost:8080/",
          "height": 265
        },
        "id": "m0Rl-PbTljIZ",
        "outputId": "52abe1ba-c35b-4249-a2a6-1a0c627a88eb"
      },
      "outputs": [
        {
          "output_type": "execute_result",
          "data": {
            "text/plain": [
              "<matplotlib.axes._subplots.Axes3DSubplot at 0x7f7f54f55390>"
            ]
          },
          "metadata": {},
          "execution_count": 18
        },
        {
          "output_type": "display_data",
          "data": {
            "image/png": "[encoded data removed]",
            "text/plain": [
              "<Figure size 432x288 with 1 Axes>"
            ]
          },
          "metadata": {
            "needs_background": "light"
          }
        }
      ],
      "source": [
        "# Below is a 3D dataset of binary labeled samples. You should be able to use\n",
        "# the existing functions to train a perceptron that perfectly classifies the\n",
        "# dataset with a decision plane model_function\n",
        "input_data = np.array([\n",
        "     [1,1,1],\n",
        "     [1,1,-1],\n",
        "     [-1,4,-3],\n",
        "     [2,4,-1],\n",
        "     [3.5,6,2],\n",
        "     [4,-6,-7],\n",
        "     [2,-4,2],\n",
        "     [4,-5,-3],\n",
        "     [0,2,0],\n",
        "     [3,2,1],\n",
        "     [4,2,4],\n",
        "     [2.5,6,-1],\n",
        "     [0,0,0],\n",
        "     [2,3,-1]])\n",
        "labels = [0, 0, 0, 1, 1, 0, 0, 1, 0, 1, 1, 1, 0, 1]\n",
        "\n",
        "# This is a utility function for displaying the dataset in a 3D graph\n",
        "# Don't worry about this code for now\n",
        "def plot_3d_dataset(x, y):\n",
        "    x_np_3d = np.array(x)\n",
        "    x_np_3d.reshape(len(x),3)\n",
        "    colors = []\n",
        "    for label in y:\n",
        "        if label == 0:\n",
        "            colors.append(\"red\")\n",
        "        else:\n",
        "            colors.append(\"blue\")\n",
        "    fig = plt.figure()\n",
        "    ax = plt.axes(projection='3d')\n",
        "    ax.scatter3D(x_np_3d[...,0], x_np_3d[...,1],x_np_3d[...,2], color = colors)\n",
        "    return ax\n",
        "\n",
        "# This is a utility function for displaying the 3D decision boundary for a given\n",
        "# set of weights\n",
        "def plot_3d_decision_boundary(ax, w, w_0):\n",
        "  x = np.linspace(-1,4,10)\n",
        "  y = np.linspace(-1,6,10)\n",
        "  X,Y = np.meshgrid(x,y)\n",
        "  Z = (-X*w[0] - Y*w[1] - w_0)/w[2]\n",
        "  surf = ax.plot_surface(X, Y, Z)\n",
        "  ax.set_zlim(-10,5)\n",
        "  return\n",
        "plot_3d_dataset(input_data, labels)"
      ]
    },
    {
      "cell_type": "code",
      "execution_count": null,
      "metadata": {
        "id": "aRY96wvfbF5K"
      },
      "outputs": [],
      "source": [
        "# TODO: Please fill in the following code to come up with a set of weights\n",
        "# that classify the dataset to 90% accuracy or better:\n",
        "\n",
        "model = ...\n",
        "# YOUR CODE HERE\n",
        "\n",
        "#print(model.w, model.w_0)\n",
        "#ax = evaluate_classification_accuracy(model, input_data, labels)\n",
        "#plot_3d_dataset(ax, input_data, labels)"
      ]
    },
    {
      "cell_type": "markdown",
      "metadata": {
        "id": "65dCyuTMljyw"
      },
      "source": [
        "## Solution to 3D Dataset Example"
      ]
    },
    {
      "cell_type": "code",
      "execution_count": null,
      "metadata": {
        "colab": {
          "base_uri": "https://localhost:8080/",
          "height": 526
        },
        "id": "p6wDZ9s0bh3u",
        "outputId": "746aeab0-99aa-4dd1-e218-06960d40dc66"
      },
      "outputs": [
        {
          "output_type": "stream",
          "name": "stdout",
          "text": [
            "epoch 1 has total loss 9.407772307772847\n",
            "epoch 10 has total loss 7.089374779911308\n",
            "epoch 20 has total loss 6.441370114863625\n",
            "epoch 30 has total loss 5.947190287747854\n",
            "epoch 40 has total loss 5.531510709199632\n",
            "epoch 50 has total loss 5.175041654441427\n",
            "epoch 60 has total loss 4.86677609058347\n",
            "epoch 70 has total loss 4.598359320852226\n",
            "epoch 80 has total loss 4.363066241327053\n",
            "epoch 90 has total loss 4.155439249220675\n",
            "epoch 100 has total loss 3.971044765645157\n",
            "\n",
            "Final weights:\n",
            "[1.06045314 0.37584154 0.18158836] -1.589063287627139\n",
            "Misclassify [1. 1. 1.] 0 with activation 0.5072044372157435\n",
            "Our model predicted 13 out of 14 correctly for 92.85714285714286 % accuracy\n"
          ]
        },
        {
          "output_type": "display_data",
          "data": {
            "image/png": "[encoded data removed]",
            "text/plain": [
              "<Figure size 432x288 with 1 Axes>"
            ]
          },
          "metadata": {
            "needs_background": "light"
          }
        }
      ],
      "source": [
        "# In this example we set the learning rate relatively small.\n",
        "# However, we only train for a few epochs which is not\n",
        "# enough to converge on an accurate classifier.\n",
        "learning_rate = 0.01\n",
        "epochs = 100\n",
        "#epochs = 1000\n",
        "\n",
        "model = SingleNeuronClassificationModel(in_features=len(input_data[0]))\n",
        "\n",
        "train_model_NLL_loss(model, input_data, labels, learning_rate, epochs)\n",
        "print(\"\\nFinal weights:\")\n",
        "print(model.w, model.w_0)\n",
        "evaluate_classification_accuracy(model, input_data, labels)\n",
        "ax = plot_3d_dataset(input_data, labels)\n",
        "plot_3d_decision_boundary(ax, model.w, model.w_0)"
      ]
    },
    {
      "cell_type": "markdown",
      "metadata": {
        "id": "oDkrb7GElrbF"
      },
      "source": [
        "## Non Linearly Separable Data\n",
        "\n",
        "Now although classes are a very powerful tool, they are still not powerful enough to allow our Single Neuron Model to determine good decision boundaries for non linearly separable data.\n",
        "\n",
        "However, now that we understand the basics of classes, we can start using the fully featured machine learning library [Pytorch](https://pytorch.org/). This library uses all of the concepts we have learned thus far to create extremely sophisticated Neural Networks that will allow us to tackle more complex datasets. Stay tuned for Module 3 where we dive into all the great functionality this library offers!\n",
        "\n",
        "If you would like a refresher on a non lineaerly separable dataset we have included the same one below. Even with our new class implementation we are unable to find a perfect classifier."
      ]
    },
    {
      "cell_type": "code",
      "execution_count": null,
      "metadata": {
        "colab": {
          "base_uri": "https://localhost:8080/",
          "height": 265
        },
        "id": "bmqfYbUFlzaj",
        "outputId": "53943112-ef0d-45a4-a98f-4666390647ea"
      },
      "outputs": [
        {
          "output_type": "display_data",
          "data": {
            "image/png": "[encoded data removed]",
            "text/plain": [
              "<Figure size 432x288 with 1 Axes>"
            ]
          },
          "metadata": {
            "needs_background": "light"
          }
        }
      ],
      "source": [
        "input_data = np.array([\n",
        "     [1, 1],\n",
        "     [1, 5],\n",
        "     [-2, 3],\n",
        "     [3, -4],\n",
        "     [4.5, 2],\n",
        "     [0, 1],\n",
        "     [-4, -4],\n",
        "     [-1, 2],\n",
        "     [4, -7],\n",
        "     [-1, 8]])\n",
        "# By changing the label of our 4th input [4.5, 2],\n",
        "# we make this dataset not linearly separable\n",
        "labels = [1, 1, 0, 1, 0, 0, 0, 0, 1, 0]\n",
        "\n",
        "plot_dataset_2D(input_data, labels)"
      ]
    },
    {
      "cell_type": "code",
      "execution_count": null,
      "metadata": {
        "colab": {
          "base_uri": "https://localhost:8080/",
          "height": 577
        },
        "id": "3rMAe60A7GTJ",
        "outputId": "9378f1dd-7028-4637-cce9-447ea16b8fa5"
      },
      "outputs": [
        {
          "output_type": "stream",
          "name": "stdout",
          "text": [
            "epoch 1 has total loss 6.762071525071627\n",
            "epoch 100 has total loss 5.015977438443233\n",
            "epoch 200 has total loss 5.002844418324068\n",
            "epoch 300 has total loss 5.002575663124355\n",
            "epoch 400 has total loss 5.002711946100711\n",
            "epoch 500 has total loss 5.002763064843282\n",
            "epoch 600 has total loss 5.002777825124896\n",
            "epoch 700 has total loss 5.002781861942977\n",
            "epoch 800 has total loss 5.0027829509433195\n",
            "epoch 900 has total loss 5.002783243657053\n",
            "epoch 1000 has total loss 5.002783322259759\n",
            "\n",
            "Final weights:\n",
            "[ 0.45136506 -0.16969305] -0.6477719549359985\n",
            "Misclassify [1. 1.] 1 with activation 0.40948374510323504\n",
            "Misclassify [1. 5.] 1 with activation 0.2602110002936167\n",
            "Misclassify [4.5 2. ] 0 with activation 0.7396181217244462\n",
            "Our model predicted 7 out of 10 correctly for 70.0 % accuracy\n"
          ]
        },
        {
          "output_type": "display_data",
          "data": {
            "image/png": "[encoded data removed]",
            "text/plain": [
              "<Figure size 432x288 with 1 Axes>"
            ]
          },
          "metadata": {
            "needs_background": "light"
          }
        }
      ],
      "source": [
        "# Our training algorithm tries to learn a \"good\" model,\n",
        "# even though it cannot find a perfect one (i.e, there is no\n",
        "# single neuron linear classifier that can perfectly separate\n",
        "# this data).\n",
        "learning_rate = 0.01\n",
        "epochs = 1000\n",
        "\n",
        "model = SingleNeuronClassificationModel(in_features=len(input_data[0]))\n",
        "\n",
        "train_model_NLL_loss(model, input_data, labels, learning_rate, epochs)\n",
        "print(\"\\nFinal weights:\")\n",
        "print(model.w, model.w_0)\n",
        "evaluate_classification_accuracy(model, input_data, labels)\n",
        "plot_dataset_2D(input_data, labels)\n",
        "plot_decision_boundary_2D(model.w, model.w_0)"
      ]
    },
    {
      "cell_type": "markdown",
      "metadata": {
        "id": "K0_Fzbmo_Oa_"
      },
      "source": [
        "## Multi Layer Perceptrons -- Towards Deeper Neural Networks\n",
        "\n",
        "Stay tuned for Module 3 where we will use Pytorch to introduce Deeper Neural Networks to tackle problems like the above! Pytorch has features that makes it extremely easy to build networks with **multiple layers** that contain **multiple nodes**! We will see that this can enable more complicated decision boundaries than just lines or planes, and do a better job on data like the above."
      ]
    }
  ],
  "metadata": {
    "colab": {
      "provenance": [],
      "include_colab_link": true
    },
    "kernelspec": {
      "display_name": "Python 3",
      "language": "python",
      "name": "python3"
    },
    "language_info": {
      "codemirror_mode": {
        "name": "ipython",
        "version": 3
      },
      "file_extension": ".py",
      "mimetype": "text/x-python",
      "name": "python",
      "nbconvert_exporter": "python",
      "pygments_lexer": "ipython3",
      "version": "3.8.10"
    }
  },
  "nbformat": 4,
  "nbformat_minor": 0
}