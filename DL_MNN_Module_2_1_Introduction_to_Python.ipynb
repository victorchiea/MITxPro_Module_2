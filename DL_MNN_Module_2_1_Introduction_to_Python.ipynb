{
  "nbformat": 4,
  "nbformat_minor": 0,
  "metadata": {
    "colab": {
      "provenance": [],
      "include_colab_link": true
    },
    "kernelspec": {
      "name": "python3",
      "display_name": "Python 3"
    }
  },
  "cells": [
    {
      "cell_type": "markdown",
      "metadata": {
        "id": "view-in-github",
        "colab_type": "text"
      },
      "source": [
        "<a href=\"https://colab.research.google.com/github/victorchiea/MITxPro_Module_2/blob/main/DL_MNN_Module_2_1_Introduction_to_Python.ipynb\" target=\"_parent\"><img src=\"https://colab.research.google.com/assets/colab-badge.svg\" alt=\"Open In Colab\"/></a>"
      ]
    },
    {
      "cell_type": "markdown",
      "metadata": {
        "id": "uWPdXFqpeOOx"
      },
      "source": [
        "## Hello World! Welcome to MITxPRO's Deep Learning Course!\n",
        "\n",
        "This is an example Python program that displays the text “Hello, world!” followed by a welcome to our course.\n"
      ]
    },
    {
      "cell_type": "code",
      "metadata": {
        "id": "4M6lnMOYd8ER",
        "colab": {
          "base_uri": "https://localhost:8080/"
        },
        "outputId": "794b1501-c0cd-449f-a99f-e692f391b2d9"
      },
      "source": [
        "# Printing text\n",
        "print(\"Hello World!\")\n",
        "\n",
        "# Printing another string\n",
        "print(\"Welcome to MITxPRO's Deep Learning Course!\")"
      ],
      "execution_count": null,
      "outputs": [
        {
          "output_type": "stream",
          "name": "stdout",
          "text": [
            "Hello World!\n",
            "Welcome to MITxPRO's Deep Learning Course!\n"
          ]
        }
      ]
    },
    {
      "cell_type": "markdown",
      "metadata": {
        "id": "kKgxS664qoBE"
      },
      "source": [
        "When you use  `print`,  each new string that you want to display will be shown on a new line. If you want to display text, you need to write the word `print`, followed by the text in quotes between parentheses: `(\"insert your text here\")`.\n",
        "\n",
        "You can create comments in python by using `#` signs in front of lines you want to document. They are useful to explain what's happening in the code and do not get executed or printed out."
      ]
    },
    {
      "cell_type": "markdown",
      "metadata": {
        "id": "j7YqvdnSEi07"
      },
      "source": [
        "# Variables and values\n",
        "\n"
      ]
    },
    {
      "cell_type": "markdown",
      "metadata": {
        "id": "TfyKP68xvAEE"
      },
      "source": [
        "In Python, **values** are pieces of information or data that we can create and manipulate. Values can be simple things like integers or strings, or they can be much more complicated objects or data structures.\n",
        "Many times when we're programming, we need to reference and use those values or objects later. In order to accomplish this, we use **variables** that act as pointers or references to values.\n",
        "\n",
        "To create a variable, you need to:\n",
        "\n",
        "1.   Write the name for your variable.\n",
        "2.   Write an equals sign (`=`).\n",
        "3.   After the = sign, put the value you want your variable to refer to.\n",
        "\n",
        "For example, `x = 23` associates (or \"binds\") the variable `x` with the integer value `23`.\n",
        "\n",
        "A look ahead: we will see that what appears after the `=` sign can be a more complicated Python **expression** that gets evaluated to result in a value that finally gets assigned to the variable.\n"
      ]
    },
    {
      "cell_type": "markdown",
      "metadata": {
        "id": "YIR-2ss58mri"
      },
      "source": []
    },
    {
      "cell_type": "markdown",
      "metadata": {
        "id": "ki6JxFG8wsKz"
      },
      "source": [
        "##Examples:\n",
        "\n",
        "---\n",
        "\n"
      ]
    },
    {
      "cell_type": "code",
      "metadata": {
        "id": "feE_Pgk9tLgs",
        "colab": {
          "base_uri": "https://localhost:8080/"
        },
        "outputId": "700bbfaa-85df-40df-98d6-fe35029c1852"
      },
      "source": [
        "# First Example\n",
        "x = 23\n",
        "print(x)\n",
        "\n",
        "# Second Example\n",
        "x = 40\n",
        "print(x)\n",
        "\n",
        "# Third Example\n",
        "request = \"I want to buy ice cream.\"\n",
        "print(\"Dessert Request: \" + request)"
      ],
      "execution_count": null,
      "outputs": [
        {
          "output_type": "stream",
          "name": "stdout",
          "text": [
            "23\n",
            "40\n",
            "Dessert Request: I want to buy ice cream.\n"
          ]
        }
      ]
    },
    {
      "cell_type": "markdown",
      "metadata": {
        "id": "204KeeW1wpQ-"
      },
      "source": [
        "**First Example**: A variable called `x` refers to the value 23. \\\\\n",
        "**Second Example**: Notice that we use the same variable name again, and now point to a different value. This re-assigns the variable. If we want to keep track of both values, we would need to create a different second variable name (e.g., `y`). \\\\\n",
        "**Third Example**: A variable named `request` references the string `\"I want to buy ice cream.\"` We are also combining the string `\"Dessert Request:\"` with the stored string pointed to by `request`, creating a new combined string that we print. This combining of text resulting from the `+` operating on two strings is called concatenation.\n",
        "\n"
      ]
    },
    {
      "cell_type": "markdown",
      "metadata": {
        "id": "FTGWSEgDzS67"
      },
      "source": [
        "# Value types"
      ]
    },
    {
      "cell_type": "markdown",
      "metadata": {
        "id": "9GdFld6Tzat2"
      },
      "source": [
        "In Python, there many different types of values that we can create and manipulate, and point to using variables. We will highlight the most frequently used built-in data types below:\n",
        "\n",
        "* **string**: Text between quotation marks. (Also known as **str**.) \\\\\n",
        "* **integer**: Whole numbers. (Also known as **int**.) \\\\\n",
        "* **float**: Floating-point numbers (numbers with a decimal point). \\\\\n",
        "* **boolean**: One of two values, either `True` or `False`. (Also known as **bool**.) \\\\\n",
        "* **list**: All elements placed inside square brackets, separated by commas. A list can have any number of elements and they may be of different types (string, integer, float, etc.). Provides ordered collection of elements. \\\\\n",
        "* **tuple**: All elements placed inside parentheses, separated by commas. A tuple can have any number of elements and they may be of different types (string, integer, float, etc.) Provides ordered collection of elements. Key difference from a list is that a tuple is immutable after created, as specified below. \\\\\n",
        "* **set**: Unordered collection of items. Each set element is unique (no duplicates). \\\\\n",
        "* **dictionary**: Unordered collection of items. Each item of a dictionary is a key/value pair. Optimized to retrieve values when the key is known. (Also known as **dict**.) \\\\\n",
        "* **NoneType**: a special type with only one possible value, `None`\n",
        "\n",
        "A data type is known to be *mutable* if it can be changed after it was initially created, while an *immutable* type means that it cannot be changed once initialized.\n",
        "Of the data types we've highlighted, strings, integers, floats, booleans, and tuples are *immutable*, while lists, sets, and dictionaries are *mutable*.\n",
        "\n",
        "Below we will show examples of each of these data types and a sample of common methods used with each one."
      ]
    },
    {
      "cell_type": "markdown",
      "metadata": {
        "id": "H4IO3jryE_n3"
      },
      "source": [
        "## String & integer examples"
      ]
    },
    {
      "cell_type": "code",
      "metadata": {
        "id": "QTwzSrG01UXt",
        "colab": {
          "base_uri": "https://localhost:8080/"
        },
        "outputId": "3f0a7aee-adf5-46eb-cd24-261103b36190"
      },
      "source": [
        "print(\"String Examples:\")\n",
        "# String variables\n",
        "string1 = \"Grapes and olives.\"\n",
        "string2 = \" -- also, I have 5 apples.\"\n",
        "\n",
        "#Select a specific portion of a string\n",
        "piece = string1[0:6]\n",
        "print(\"piece:\", piece)\n",
        "\n",
        "#Combine two strings and point to the new string with a new variable\n",
        "longer_string = piece + string2\n",
        "print(\"longer_string:\", longer_string)\n",
        "\n",
        "print() #print blank line\n",
        "\n",
        "print(\"Integer Examples:\")\n",
        "# Integer variables\n",
        "x1 = 7\n",
        "x2 = 993\n",
        "\n",
        "#New variable storing result of adding two integers\n",
        "x3 = x1 + x2\n",
        "print(\"x3:\", x3)\n",
        "\n",
        "#Reassign variable to the result from floating point division\n",
        "x3 = x1 / 3\n",
        "print(\"x3:\", x3)\n",
        "\n",
        "#Reassign variable to the result from integer division (ignore remainder)\n",
        "x3 = x1 // 3\n",
        "print(\"x3:\", x3)\n"
      ],
      "execution_count": null,
      "outputs": [
        {
          "output_type": "stream",
          "name": "stdout",
          "text": [
            "String Examples:\n",
            "piece: Grapes\n",
            "longer_string: Grapes -- also, I have 5 apples.\n",
            "\n",
            "Integer Examples:\n",
            "x3: 1000\n",
            "x3: 2.3333333333333335\n",
            "x3: 2\n"
          ]
        }
      ]
    },
    {
      "cell_type": "markdown",
      "metadata": {
        "id": "uHQevubbFJAq"
      },
      "source": [
        "##Float & boolean examples"
      ]
    },
    {
      "cell_type": "code",
      "metadata": {
        "colab": {
          "base_uri": "https://localhost:8080/"
        },
        "id": "9YswztblE9ji",
        "outputId": "c3674fd9-51f0-45a9-c198-bb5ee542df56"
      },
      "source": [
        "print(\"Float Examples:\")\n",
        "# Float variables\n",
        "float1 = 3.14\n",
        "float2 = 5.0\n",
        "\n",
        "#Subtract two floats and point to that value with a new variable\n",
        "subtraction = float2 - float1\n",
        "print(\"subtraction:\", subtraction)\n",
        "\n",
        "#Create an int from a float; ignores decimal portion - does not round\n",
        "float_to_int = int(3.14)\n",
        "float_to_int2 = int(3.94)\n",
        "print(\"float_to_int:\", float_to_int)\n",
        "print(\"float_to_int2:\", float_to_int2)\n",
        "\n",
        "#Create an int from a float by rounding value to nearest integer\n",
        "float_rounded1 = round(3.14)\n",
        "float_rounded2 = round(3.94)\n",
        "print(\"float_rounded1:\", float_rounded1)\n",
        "print(\"float_rounded2:\", float_rounded2)\n",
        "\n",
        "print()\n",
        "\n",
        "print(\"Boolean Examples:\")\n",
        "# Boolean variables\n",
        "fact = True\n",
        "fiction = False\n",
        "\n",
        "a = 9\n",
        "b = 3\n",
        "boolean1 = (a <= b)\n",
        "print(\"boolean1:\", boolean1)\n",
        "\n",
        "x = \"Hello\"\n",
        "y = \"Hello World\"\n",
        "boolean2 = (x == y[0:5])\n",
        "print(\"boolean2:\", boolean2)\n",
        "\n",
        "#Logical operators\n",
        "print(\"or:\", boolean1 or boolean2)\n",
        "print(\"and:\", boolean1 and boolean2)\n",
        "print(\"not:\", not boolean2)"
      ],
      "execution_count": null,
      "outputs": [
        {
          "output_type": "stream",
          "name": "stdout",
          "text": [
            "Float Examples:\n",
            "subtraction: 1.8599999999999999\n",
            "float_to_int: 3\n",
            "float_to_int2: 3\n",
            "float_rounded1: 3\n",
            "float_rounded2: 4\n",
            "\n",
            "Boolean Examples:\n",
            "boolean1: False\n",
            "boolean2: True\n",
            "or: True\n",
            "and: False\n",
            "not: False\n"
          ]
        }
      ]
    },
    {
      "cell_type": "markdown",
      "metadata": {
        "id": "XlFL2KMp3ixw"
      },
      "source": [
        "Python evaluates expressions to the right of an `=` and also in place (like within a `print` statement). Notice the use of `==` for the evaluation of the value of which `boolean2` is set equal. This symbol checks whether the left side of the expression is equal to the right side and returns a boolean based on the outcome (`True` if equal, `False` if not equal). These subexpressions can be nested within a larger expression, like in the `boolean2 = (x==y[0:5])` example.\n",
        "\n",
        "Logical operators `or`, `and`, `not` work as the following:\n",
        "\n",
        "\n",
        "\n",
        "*   `or` returns `True` if one of the statements is true\n",
        "*   `and` returns `True` if both statements are true\n",
        "*   `not` reverse the result, returns `False` if the result is `True`\n",
        "\n",
        "\n",
        "\n"
      ]
    },
    {
      "cell_type": "markdown",
      "metadata": {
        "id": "a91-YO-BFVK8"
      },
      "source": [
        "##List & tuple examples"
      ]
    },
    {
      "cell_type": "code",
      "metadata": {
        "colab": {
          "base_uri": "https://localhost:8080/"
        },
        "id": "lSuryEwB9fq2",
        "outputId": "5ad73145-48d7-493e-fef1-a44f49520759"
      },
      "source": [
        "print(\"List Examples:\")\n",
        "# List variables\n",
        "list1 = [13,14,15,16,17]\n",
        "list2 = ['butterfly', 'dog', 'frog', 'tiger']\n",
        "\n",
        "#Value at a particular index\n",
        "val1 = list1[0]\n",
        "print(\"val1:\", val1)\n",
        "val2 = list2[3]\n",
        "print(\"val2:\", val2)\n",
        "\n",
        "#Another variable pointing to same list\n",
        "list3 = list1\n",
        "print(\"list1:\", list1, \"and list3:\", list3)\n",
        "\n",
        "#Append value to end of list (mutates the list)\n",
        "list1.append(23)\n",
        "print(\"list1 after append:\", list1)\n",
        "\n",
        "#Note that list3 points to the same list object, so is changed also\n",
        "print(\"list1:\", list1, \"and list3:\", list3)\n",
        "\n",
        "#Insert value at particular index (mutates the list)\n",
        "list2.insert(1, 'gorilla')\n",
        "print(\"list2 after insert:\", list2)\n",
        "\n",
        "#Remove and return value with pop method (mutates the list)\n",
        "popped_val = list1.pop(0)\n",
        "print(\"popped_val:\", popped_val)\n",
        "print(\"list1 after pop:\", list1)\n",
        "\n",
        "print()\n",
        "\n",
        "print(\"Tuple Examples:\")\n",
        "# Tuple variables\n",
        "tup1 = (9,8,7,6,5,9,9)\n",
        "tup2 = ('hat', 'scarf', 'sweater', 'gloves')\n",
        "\n",
        "#Find length of tuples\n",
        "tup1_len = len(tup1)\n",
        "print(\"tup1_len:\", tup1_len)\n",
        "print(\"len of tup2:\", len(tup2))\n",
        "\n",
        "#Find number of occurrences of a particular element\n",
        "tup1_count = tup1.count(9)\n",
        "print(\"tup1_count:\", tup1_count)"
      ],
      "execution_count": null,
      "outputs": [
        {
          "output_type": "stream",
          "name": "stdout",
          "text": [
            "List Examples:\n",
            "val1: 13\n",
            "val2: tiger\n",
            "list1: [13, 14, 15, 16, 17] and list3: [13, 14, 15, 16, 17]\n",
            "list1 after append: [13, 14, 15, 16, 17, 23]\n",
            "list1: [13, 14, 15, 16, 17, 23] and list3: [13, 14, 15, 16, 17, 23]\n",
            "list2 after insert: ['butterfly', 'gorilla', 'dog', 'frog', 'tiger']\n",
            "popped_val: 13\n",
            "list1 after pop: [14, 15, 16, 17, 23]\n",
            "\n",
            "Tuple Examples:\n",
            "tup1_len: 7\n",
            "len of tup2: 4\n",
            "tup1_count: 3\n"
          ]
        }
      ]
    },
    {
      "cell_type": "markdown",
      "metadata": {
        "id": "NmKb8nXXFZan"
      },
      "source": [
        "## Set & Dictionary Examples"
      ]
    },
    {
      "cell_type": "code",
      "metadata": {
        "colab": {
          "base_uri": "https://localhost:8080/"
        },
        "id": "R0dxOtxoFcij",
        "outputId": "61684db3-970e-4c99-d70a-f1376d4906fe"
      },
      "source": [
        "print(\"Set Examples:\")\n",
        "# Set variables\n",
        "set1 = {1,1,1,1,1,1,4,2,3,4}\n",
        "set2 = {'guitar', 'piano', 'trombone', 'cymbal', 'bass', 'piano', 'piano'}\n",
        "#Creating sets extracts unique elements and makes unordered collection\n",
        "print(\"set1:\", set1)\n",
        "print(\"set2:\", set2)\n",
        "\n",
        "#Join two sets together\n",
        "set3 = set1.union(set2)\n",
        "print(\"set3:\", set3)\n",
        "\n",
        "\n",
        "print(\"Dictionary Examples:\")\n",
        "# Dictionary variable\n",
        "dict1 = {\n",
        "  \"sports\": [\"football\", \"basketball\", \"baseball\", \"hockey\"],\n",
        "  \"IDs\": [7,2,3],\n",
        "  \"name\": 'John',\n",
        "  \"age\": 23\n",
        "}\n",
        "\n",
        "#Get values corresponding to a key\n",
        "print(\"Value for 'sports' key in dict1:\", dict1.get(\"sports\"))\n",
        "print(\"Value for 'age' key in dict1:\", dict1[\"age\"])\n",
        "\n",
        "#Add key-value pair to dictionary\n",
        "dict1['fav_color'] = 'green'\n",
        "print(\"dict1:\", dict1)\n",
        "\n",
        "#Extract all keys and values from dictionary\n",
        "print(\"keys in dict1:\", dict1.keys())\n",
        "print(\"values in dict1:\", dict1.values())\n",
        "print(\"items in dict1:\", dict1.items()) #sequence of tuples of (key, value) in dict1\n"
      ],
      "execution_count": null,
      "outputs": [
        {
          "output_type": "stream",
          "name": "stdout",
          "text": [
            "Set Examples:\n",
            "set1: {1, 2, 3, 4}\n",
            "set2: {'guitar', 'bass', 'cymbal', 'piano', 'trombone'}\n",
            "set3: {'guitar', 1, 2, 3, 4, 'bass', 'cymbal', 'piano', 'trombone'}\n",
            "Dictionary Examples:\n",
            "Value for 'sports' key in dict1: ['football', 'basketball', 'baseball', 'hockey']\n",
            "Value for 'age' key in dict1: 23\n",
            "dict1: {'sports': ['football', 'basketball', 'baseball', 'hockey'], 'IDs': [7, 2, 3], 'name': 'John', 'age': 23, 'fav_color': 'green'}\n",
            "keys in dict1: dict_keys(['sports', 'IDs', 'name', 'age', 'fav_color'])\n",
            "values in dict1: dict_values([['football', 'basketball', 'baseball', 'hockey'], [7, 2, 3], 'John', 23, 'green'])\n",
            "items in dict1: dict_items([('sports', ['football', 'basketball', 'baseball', 'hockey']), ('IDs', [7, 2, 3]), ('name', 'John'), ('age', 23), ('fav_color', 'green')])\n"
          ]
        }
      ]
    },
    {
      "cell_type": "markdown",
      "metadata": {
        "id": "PtseiCP5CgJL"
      },
      "source": [
        "#Loops"
      ]
    },
    {
      "cell_type": "markdown",
      "metadata": {
        "id": "-2Fm7bOfCiez"
      },
      "source": [
        "Many times in programming there is a need to iterate through a data structure or repeat the same code multiple times. In Python this is usually executed using either a `for` loop or a `while` loop.\n",
        "\n",
        "In the case of a `for` loop, the structure is:\n",
        "```\n",
        "for <variable> in <sequence>:\n",
        "  <body>\n",
        "```\n",
        "In each iteration of the loop, the variable (denoted `<var>` here) points to the next item in the sequence and the `<body>` is executed. The loop then continues with the next item in the sequence.\n",
        "\n",
        "In the case of a `while` loop, the structure is:\n",
        "```\n",
        "while <condition>:\n",
        "  <body>\n",
        "````\n",
        "A `while` loop behaves a bit like a looping `if` statement. The condition has to be something that evaluates to a boolean. The code under the `while` loop is the body. If the condition is `True`, the body executes.\n",
        "Every time the body finishes executing, the condition is checked again. When  the condition finally becomes `False`, the while loop ends.\n",
        "\n",
        "In Python the indentation of code is very important as this directs the scope of variables and executed scripts."
      ]
    },
    {
      "cell_type": "code",
      "metadata": {
        "colab": {
          "base_uri": "https://localhost:8080/"
        },
        "id": "3CX_pmKdD4zE",
        "outputId": "7c14641e-2f77-47eb-c49c-91192707d9ac"
      },
      "source": [
        "list1 = ['a', 'b', 'c', 'd', 'e']\n",
        "\n",
        "print('For Loop Method #1')\n",
        "#One common way to leverage a for loop is to iterate sequentially over the elements of a data structure\n",
        "for j in list1:\n",
        "  print(\"Next element in sequence is\", j)\n",
        "\n",
        "print('--------------')\n",
        "print('For Loop Method #2')\n",
        "#Another common way is using range and iterating through indices\n",
        "for i in range(len(list1)):\n",
        "  print(\"Element at index\", i, \"is\", list1[i])\n",
        "\n",
        "print('--------------')\n",
        "print('While Loop')\n",
        "k = 0\n",
        "while k < len(list1):\n",
        "  print(list1[k])\n",
        "  k += 1"
      ],
      "execution_count": null,
      "outputs": [
        {
          "output_type": "stream",
          "name": "stdout",
          "text": [
            "For Loop Method #1\n",
            "Next element in sequence is a\n",
            "Next element in sequence is b\n",
            "Next element in sequence is c\n",
            "Next element in sequence is d\n",
            "Next element in sequence is e\n",
            "--------------\n",
            "For Loop Method #2\n",
            "Element at index 0 is a\n",
            "Element at index 1 is b\n",
            "Element at index 2 is c\n",
            "Element at index 3 is d\n",
            "Element at index 4 is e\n",
            "--------------\n",
            "While Loop\n",
            "a\n",
            "b\n",
            "c\n",
            "d\n",
            "e\n"
          ]
        }
      ]
    },
    {
      "cell_type": "markdown",
      "metadata": {
        "id": "-yqcF2FYDPWY"
      },
      "source": [
        "Notice the use of `range` in For Loop Method #2. This built-in Python function returns a sequence of numbers starting from 0 (by default) and increments/steps by 1 (by default) before stopping at a specified number. The syntax is: `range(start, stop, step)`, with stop set as the only required parameter.\n",
        "\n",
        "Also take a look at the `+=` symbol used in the While Loop Method. This is a shortcut that is refered to as the **addition assignment operator**. It adds the value specified on the right side of the symbol to the variable specified on the left side. It is generally used within a loop to systematically add values for as many iterations as desired."
      ]
    },
    {
      "cell_type": "markdown",
      "metadata": {
        "id": "QLDw0ZGXEsfZ"
      },
      "source": [
        "## Exercise: Calculate Average Weight\n",
        "\n",
        "Write code to find the average weight of a group of dogs.\n",
        "\n",
        "List of dog weights: `[25,37,53,64,82,91]`"
      ]
    },
    {
      "cell_type": "code",
      "metadata": {
        "id": "ihaebcyP6_jF"
      },
      "source": [
        "##### YOUR CODE HERE\n",
        "\n",
        "##### END CODE"
      ],
      "execution_count": null,
      "outputs": []
    },
    {
      "cell_type": "code",
      "metadata": {
        "id": "02VgY3iFs3zZ",
        "colab": {
          "base_uri": "https://localhost:8080/"
        },
        "outputId": "debca982-8a4b-4f51-e565-064156e32b00"
      },
      "source": [
        "#@title Solution Hidden { display-mode: \"form\" }\n",
        "# Example method to find solution:\n",
        "sum1 = 0\n",
        "weights = [25,37,53,64,82,91]\n",
        "\n",
        "for weight in weights:\n",
        "  sum1 += weight\n",
        "\n",
        "avg = sum1/len(weights)\n",
        "print(avg)"
      ],
      "execution_count": null,
      "outputs": [
        {
          "output_type": "stream",
          "name": "stdout",
          "text": [
            "58.666666666666664\n"
          ]
        }
      ]
    },
    {
      "cell_type": "code",
      "metadata": {
        "id": "V8hrUaK1xrPt"
      },
      "source": [],
      "execution_count": null,
      "outputs": []
    },
    {
      "cell_type": "markdown",
      "metadata": {
        "id": "38Jx1-wlshQY"
      },
      "source": [
        "# Conditionals"
      ]
    },
    {
      "cell_type": "markdown",
      "metadata": {
        "id": "N0iZS9dBC8k2"
      },
      "source": [
        "Sometimes we want to alter the type of code we execute based on the value that is seen. Essentially, we want to create conditions in the code: \"if something is the case, execute the program in one particular way; otherwise do it another way.\" This can be achieved using boolean test conditions."
      ]
    },
    {
      "cell_type": "code",
      "metadata": {
        "colab": {
          "base_uri": "https://localhost:8080/"
        },
        "id": "NR9DWEXb_KbG",
        "outputId": "5b667923-6163-4462-fb2e-6f934330afae"
      },
      "source": [
        "x = 5\n",
        "\n",
        "if x <= 5:\n",
        "  print('small')\n",
        "elif 6 <= x <= 10:\n",
        "  print('medium')\n",
        "else:\n",
        "  print('large')"
      ],
      "execution_count": null,
      "outputs": [
        {
          "output_type": "stream",
          "name": "stdout",
          "text": [
            "small\n"
          ]
        }
      ]
    },
    {
      "cell_type": "markdown",
      "metadata": {
        "id": "W_m8DVDv_3D0"
      },
      "source": [
        "When you write `if`, Python checks to see whether the variable or expression after it evaluates to `True`. If it does, then the indented code after it will execute, and Python will skip the indented conditions after. If the condition evaluates to `False`, then the indented code after the `if` statement is skipped, and the next condition is checked. If `True`, the `elif` branch will execute, otherwise the code in the `else` branch will be executed, as it captures all other conditions but the ones specified.\n",
        "\n",
        "When using `if` and `else` statements, you need to end each of these lines with a colon (: ) and indent the subsequent code with your indentation indicator (a fixed number of spaces, e.g., 2 or 4 spaces, or a tab character)."
      ]
    },
    {
      "cell_type": "markdown",
      "metadata": {
        "id": "6sRqp6-ty_ZA"
      },
      "source": [
        "## Exercise: Find Max Organically\n",
        "Write a program that traverses `[4525,1232,98775,1243,88888,9853211,59612]` and prints the highest value from the list.\n",
        "\n",
        "**Note**: Do not use the built-in function `max`!"
      ]
    },
    {
      "cell_type": "code",
      "metadata": {
        "id": "6E8HT62Rcj_M"
      },
      "source": [
        "##### YOUR CODE HERE\n",
        "\n",
        "##### END CODE"
      ],
      "execution_count": null,
      "outputs": []
    },
    {
      "cell_type": "code",
      "metadata": {
        "id": "YdtnOAaPy-x7",
        "colab": {
          "base_uri": "https://localhost:8080/"
        },
        "cellView": "form",
        "outputId": "4c0f53bb-67c4-482c-a727-e3f3911a533d"
      },
      "source": [
        "#@title Solution Hidden\n",
        "# Complete this program to find and print the highest score from the list\n",
        "\n",
        "vals = [4525,1232,98775,1243,88888,9853211,59612]\n",
        "maximum = 0\n",
        "for num in vals:\n",
        "  if num > maximum:\n",
        "    maximum=num\n",
        "print(maximum)\n",
        "\n",
        "# Here's another version, that doesn't assume 0 is the smallest maximum\n",
        "maximum = None\n",
        "for num in vals:\n",
        "  if maximum is None or num > maximum:\n",
        "    maximum = num\n",
        "print(maximum)"
      ],
      "execution_count": null,
      "outputs": [
        {
          "output_type": "stream",
          "name": "stdout",
          "text": [
            "9853211\n",
            "9853211\n"
          ]
        }
      ]
    },
    {
      "cell_type": "markdown",
      "metadata": {
        "id": "Z3fkjPLaqsHg"
      },
      "source": [
        "# Functions\n",
        "\n",
        "A Python function is similar to how we think of functions in math. We've actually seen examples of functions earlier -- `range` and `append` are examples of functions. You can think of these as pre-defined functions in Python that can be called for various uses. Now, we'll see how we can make our own functions."
      ]
    },
    {
      "cell_type": "markdown",
      "metadata": {
        "id": "SnbAJrBOMlxf"
      },
      "source": [
        "First, recall an example from earlier:"
      ]
    },
    {
      "cell_type": "code",
      "metadata": {
        "id": "0F6-tjJVLdB5",
        "colab": {
          "base_uri": "https://localhost:8080/"
        },
        "outputId": "3c7f8c55-5846-494c-dc5c-4ed69ac8f50d"
      },
      "source": [
        "x = 5\n",
        "if x <= 5:\n",
        "  print('small')\n",
        "elif 6 <= x <= 10:\n",
        "  print('medium')\n",
        "else:\n",
        "  print('large')"
      ],
      "execution_count": null,
      "outputs": [
        {
          "output_type": "stream",
          "name": "stdout",
          "text": [
            "small\n"
          ]
        }
      ]
    },
    {
      "cell_type": "markdown",
      "metadata": {
        "id": "3XpSjoulDNzk"
      },
      "source": [
        "If we wanted to execute this code in several different places in our program (e.g., in this notebook), we would have to copy and paste these seven lines of code each time.\n",
        "\n",
        "A `function` provides an efficient way to package and easily reuse code whenever we want.\n",
        "\n",
        "The format to define a function is:\n",
        "```\n",
        "def <function_name>(<parameters>):\n",
        "  <body>\n",
        "```\n",
        "Every function you define contains the word `def`, the name of your function, a pair of parentheses with zero or more parameters separated by commas, and a colon, followed by some code underneath. When we define a function, Python only creates and saves the function, associating it with its name; the function is not actually run until we later call it with some arguments."
      ]
    },
    {
      "cell_type": "code",
      "metadata": {
        "id": "jdgDz1JqN-SN"
      },
      "source": [
        "def number_describer(x):\n",
        "  if x <= 5:\n",
        "    return 'small'\n",
        "  elif 6 <= x <= 10:\n",
        "    return 'medium'\n",
        "  else:\n",
        "    return 'large'"
      ],
      "execution_count": null,
      "outputs": []
    },
    {
      "cell_type": "markdown",
      "metadata": {
        "id": "_5SX8EKeGKYK"
      },
      "source": [
        "Notice the `x` is in between the parentheses next to the function name. This is called a **parameter** which means that we can manually set the input value to whatever we'd like.\n",
        "\n",
        "In order to execute this code, we call the function by writing the name followed by parentheses including any arguments we want or need to set, like below:"
      ]
    },
    {
      "cell_type": "code",
      "metadata": {
        "id": "2UuaZo-qGVGd",
        "colab": {
          "base_uri": "https://localhost:8080/",
          "height": 35
        },
        "outputId": "d1103ada-84c0-47b4-c7f9-cd16c842a41d"
      },
      "source": [
        "number_describer(7)"
      ],
      "execution_count": null,
      "outputs": [
        {
          "output_type": "execute_result",
          "data": {
            "application/vnd.google.colaboratory.intrinsic+json": {
              "type": "string"
            },
            "text/plain": [
              "'medium'"
            ]
          },
          "metadata": {},
          "execution_count": 15
        }
      ]
    },
    {
      "cell_type": "markdown",
      "metadata": {
        "id": "fozuhlUEPD0s"
      },
      "source": [
        "Notice the use of the `return` statement in the definition of our function. This directly ends the execution of the function and returns the indicated  values. This return is different than printing values to the console, as the returned values can be further manipulated.\n",
        "\n",
        "Each time we call the function, the code in the function gets executed with the arguments we provide, corresponding to the parameters specified in the function. This is part of why functions are valuable. They allow us to save some code for later, and then use and re-use it without typing it out each time."
      ]
    },
    {
      "cell_type": "markdown",
      "metadata": {
        "id": "XQBUr90cHHVq"
      },
      "source": [
        "## Variable Scope in Functions\n",
        "\n",
        "As mentioned previously, the indentation of code is very important in Python, as this indicates what code **block** is associated with the body of a function, loop, or if statement. When the indentation level decreases, this tells Python that the block of code is completed. In the case of a function, when the indentation ends, that indicates the end of the function definition.\n",
        "\n",
        "A related idea is the **scope** of variables. Whenever a function is defined and executed, a new \"inner\" scope is created, where the parameters are \"local\" variables pointing to the values given by the supplied arguments. If variables that are not parameters are referred to in the body, their values are found in the enclosing or \"outer\" scope.\n",
        "\n",
        "Let's look at a few examples that illustrate this point."
      ]
    },
    {
      "cell_type": "markdown",
      "metadata": {
        "id": "Kc7Dixf6IlNq"
      },
      "source": [
        "The variable `name` is only available within the function. If we try to use `name` outside the function, it causes an error. Do you see an error when you run this program?"
      ]
    },
    {
      "cell_type": "code",
      "metadata": {
        "id": "tf07EEMBIeaf",
        "colab": {
          "base_uri": "https://localhost:8080/",
          "height": 220
        },
        "outputId": "a6a3acb9-5559-42c5-9a22-64cf74619e0e"
      },
      "source": [
        "def greeter():\n",
        "  person = \"Sabrina\"\n",
        "  print(\"Hi \" + person + \"!\")\n",
        "\n",
        "greeter()\n",
        "print(person)"
      ],
      "execution_count": null,
      "outputs": [
        {
          "output_type": "stream",
          "name": "stdout",
          "text": [
            "Hi Sabrina!\n"
          ]
        },
        {
          "output_type": "error",
          "ename": "NameError",
          "evalue": "ignored",
          "traceback": [
            "\u001b[0;31m---------------------------------------------------------------------------\u001b[0m",
            "\u001b[0;31mNameError\u001b[0m                                 Traceback (most recent call last)",
            "\u001b[0;32m<ipython-input-16-0c0099202b4a>\u001b[0m in \u001b[0;36m<module>\u001b[0;34m()\u001b[0m\n\u001b[1;32m      4\u001b[0m \u001b[0;34m\u001b[0m\u001b[0m\n\u001b[1;32m      5\u001b[0m \u001b[0mgreeter\u001b[0m\u001b[0;34m(\u001b[0m\u001b[0;34m)\u001b[0m\u001b[0;34m\u001b[0m\u001b[0;34m\u001b[0m\u001b[0m\n\u001b[0;32m----> 6\u001b[0;31m \u001b[0mprint\u001b[0m\u001b[0;34m(\u001b[0m\u001b[0mperson\u001b[0m\u001b[0;34m)\u001b[0m\u001b[0;34m\u001b[0m\u001b[0;34m\u001b[0m\u001b[0m\n\u001b[0m",
            "\u001b[0;31mNameError\u001b[0m: name 'person' is not defined"
          ]
        }
      ]
    },
    {
      "cell_type": "markdown",
      "metadata": {
        "id": "2qYfeoApJMxm"
      },
      "source": [
        "The reason for the `NameError` is that variable `person` is only local to `greeter`, i.e., is scoped to only exist inside the `greeter` function. There is no `person` variable previously specified in the outer or global scope, so trying to get the value for `person` in the print statement raises an error.\n",
        "\n",
        "But here's where it's important to know variable scoping in Python. If you declare the variable OUTSIDE a function, you can still *access* it from INSIDE the function. That is to say, if a variable is not local, we look in the surrounding (OUTER) scope to find the variable. Take a look at this:\n"
      ]
    },
    {
      "cell_type": "code",
      "metadata": {
        "id": "bC-BRSDBItU8",
        "colab": {
          "base_uri": "https://localhost:8080/"
        },
        "outputId": "60b75ad8-a4d4-40f4-e5b6-996815b22a52"
      },
      "source": [
        "person = \"Tom\"\n",
        "\n",
        "def greeter():\n",
        "  print(\"Hi \" + person + \"!\")\n",
        "\n",
        "greeter()\n",
        "print(person)"
      ],
      "execution_count": null,
      "outputs": [
        {
          "output_type": "stream",
          "name": "stdout",
          "text": [
            "Hi Tom!\n",
            "Tom\n"
          ]
        }
      ]
    },
    {
      "cell_type": "markdown",
      "metadata": {
        "id": "tfpyxxy4JgGV"
      },
      "source": [
        "Here's an important place where the idea of scoping becomes very important: it is possible to have *different* variables with the *same* name, but in different scopes! In particular, a variable with some name may already exist in an outer scope (i.e., outside a function). But if that same variable name is defined in an outer scope (i.e., inside a function), then a new, different, **local** variable is created within that inner scope.\n",
        "\n",
        "In the example below, there are two variables called `person`. One of them lives inside `greeting`, and the other lives outside of it. Run this code and see what happens."
      ]
    },
    {
      "cell_type": "code",
      "metadata": {
        "id": "pHDPFzZPJY7O",
        "colab": {
          "base_uri": "https://localhost:8080/"
        },
        "outputId": "d4ce3ef8-a058-45a0-9d9d-2fc774d5eb76"
      },
      "source": [
        "person = \"Elizabeth\"\n",
        "\n",
        "def greeter():\n",
        "  person = \"Justin\"\n",
        "  print(\"Hi \" + person + \"!\") # This refers to the version of person inside greeting()\n",
        "\n",
        "greeter()\n",
        "print(person) # This refers to the version of person on the first line"
      ],
      "execution_count": null,
      "outputs": [
        {
          "output_type": "stream",
          "name": "stdout",
          "text": [
            "Hi Justin!\n",
            "Elizabeth\n"
          ]
        }
      ]
    },
    {
      "cell_type": "markdown",
      "metadata": {
        "id": "rBCUCuQUma7X"
      },
      "source": [
        "## Exercise: Celsius to Fahrenheit\n",
        "\n",
        "1.   Write a function called `cels_to_fahr` that takes an input `cels_temp`, a temperature in Celsius, and converts it to `fahr_temp`, the temperature in Fahrenheit. It should then return `fahr_temp`. The equation you should use is:\n",
        "\n",
        "> > > >  $F = (1.8 * C) + 32$\n",
        "\n",
        "\n",
        "2.   Test your function with values of 0 Celsius and 100 Celsius by printing the output.\n",
        "\n"
      ]
    },
    {
      "cell_type": "code",
      "metadata": {
        "id": "ygA9dfXd7SYG"
      },
      "source": [
        "##### YOUR CODE HERE\n",
        "\n",
        "##### END CODE"
      ],
      "execution_count": null,
      "outputs": []
    },
    {
      "cell_type": "code",
      "metadata": {
        "id": "DycsOkuspAXe"
      },
      "source": [
        "#@title Solution Hidden { display-mode: \"form\" }\n",
        "# Define function here\n",
        "def cels_to_fahr(cels_temp):\n",
        "  fahr_temp = (1.8 * cels_temp) + 32\n",
        "  return fahr_temp\n",
        "\n",
        "# Call function and print output here\n",
        "print(cels_to_fahr(0))\n",
        "print(cels_to_fahr(100))"
      ],
      "execution_count": null,
      "outputs": []
    }
  ]
}