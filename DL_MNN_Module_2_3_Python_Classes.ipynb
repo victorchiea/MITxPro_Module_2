{
  "cells": [
    {
      "cell_type": "markdown",
      "metadata": {
        "id": "view-in-github",
        "colab_type": "text"
      },
      "source": [
        "<a href=\"https://colab.research.google.com/github/victorchiea/MITxPro_Module_2/blob/main/DL_MNN_Module_2_3_Python_Classes.ipynb\" target=\"_parent\"><img src=\"https://colab.research.google.com/assets/colab-badge.svg\" alt=\"Open In Colab\"/></a>"
      ]
    },
    {
      "cell_type": "markdown",
      "metadata": {
        "id": "t6YoTRRKmZ_3"
      },
      "source": [
        "# Python Classes\n",
        "\n",
        "When working on Python programming projects, you may find yourself utilizing many self-made functions and variables. The necessary functions may span a wide-range of purposes in your code (e.g., retrieving data, processing data, training an ML model, outputting metrics of interest, etc.). A useful way to organize related data and functions is by creating a Python class.\n",
        "\n",
        "A **class** is a code template for creating and operating on an object. An **object** is anything that you wish to manipulate while working through code, and it typically has associated data attributes and methods."
      ]
    },
    {
      "cell_type": "markdown",
      "metadata": {
        "id": "0ZtzMpNMb0QU"
      },
      "source": [
        "## Example: Rectangle Class"
      ]
    },
    {
      "cell_type": "markdown",
      "metadata": {
        "id": "e2EyMY3NJGzm"
      },
      "source": [
        "In order to illustrate the basics of classes, let's make a class that will create `Rectangle` objects."
      ]
    },
    {
      "cell_type": "code",
      "execution_count": null,
      "metadata": {
        "id": "uz0AEa4RmgGm"
      },
      "outputs": [],
      "source": [
        "class Rectangle():\n",
        "    color = 'green'\n",
        "\n",
        "    def __init__(self, length, width):\n",
        "        self.length = length\n",
        "        self.width = width"
      ]
    },
    {
      "cell_type": "markdown",
      "metadata": {
        "id": "alBns-yULwrF"
      },
      "source": [
        "When creating a class, all you need to start is the `class` keyword followed by your desired name for the class. This name can be anything you'd like to describe the class, and in Python the name typically follows the *CapWords* convention. This means that if multiple words are joined together to make the name, all of these words are capitalized.\n",
        "\n",
        "Within the class, we can define attributes and methods. Note that the indentation is important; these indicate that the attributes and methods are within the class we are defining.\n",
        "\n",
        "An `__init__` method is called whenever a new instance of a class is **instantiated**. This is also known as the **constructor**. The `self` argument will typically appear first in the `__init__` constructor, and by convention, the `self` argument will similarly be the first parameter for any other methods defined within the class. We will see later that Python automatically arranges for this first `self` argument to refer to the object instance itself, and you do not provide it explicitly when constructing a new instance, or when calling methods on an instance.\n",
        "\n",
        "Here is how to instantiate an object of the class we have defined:"
      ]
    },
    {
      "cell_type": "code",
      "execution_count": null,
      "metadata": {
        "colab": {
          "base_uri": "https://localhost:8080/"
        },
        "id": "7tIpuW4XVru7",
        "outputId": "baacccbd-6853-4cb3-ce45-83b85beb2811"
      },
      "outputs": [
        {
          "name": "stdout",
          "output_type": "stream",
          "text": [
            "rectangle1: <__main__.Rectangle object at 0x7f6cb43d2c40>\n",
            "rectangle2: <__main__.Rectangle object at 0x7f6cb43d20a0>\n",
            "\n",
            "isinstance(rectangle1, Rectangle): True\n",
            "rectangle1 == rectangle2: False\n"
          ]
        }
      ],
      "source": [
        "#Instance1 of Rectangle class\n",
        "rectangle1 = Rectangle(7,8)\n",
        "print(\"rectangle1:\", rectangle1)\n",
        "\n",
        "#Instance2 of Rectangle class\n",
        "rectangle2 = Rectangle(3,5)\n",
        "print(\"rectangle2:\", rectangle2)\n",
        "\n",
        "#These are distinct instances of type Rectangle:\n",
        "print()\n",
        "print(\"isinstance(rectangle1, Rectangle):\", isinstance(rectangle1, Rectangle))\n",
        "print(\"rectangle1 == rectangle2:\", rectangle1 == rectangle2)"
      ]
    },
    {
      "cell_type": "markdown",
      "metadata": {
        "id": "i1hBduGg5fzw"
      },
      "source": [
        "Notice that when we print `rectangle1` and `rectangle2`, which are instances of the class `Rectangle`, we see Python object types. But how can we see data that's contained within a given instance of a class?\n",
        "\n",
        "**Class attributes** are variables of a class that are shared between all of its instances. They differ from **instance attributes** in that instance attributes are owned by one specific instance of the class only, and ​are not shared between instances. We can extract and display these attributes using the conventions below."
      ]
    },
    {
      "cell_type": "code",
      "execution_count": null,
      "metadata": {
        "colab": {
          "base_uri": "https://localhost:8080/"
        },
        "id": "1FtkqEMSrg9R",
        "outputId": "20c7c858-a79d-4053-af66-85cfdc9f2b49"
      },
      "outputs": [
        {
          "name": "stdout",
          "output_type": "stream",
          "text": [
            "rectangle1\n",
            "color (class attribute): green\n",
            "length (instance attribute): 7\n",
            "width (instance attribute): 8\n",
            "\n",
            "rectangle2\n",
            "color (class attribute): green\n",
            "length (instance attribute): 3\n",
            "width (instance attribute): 5\n"
          ]
        }
      ],
      "source": [
        "print('rectangle1')\n",
        "print(\"color (class attribute):\", rectangle1.color)\n",
        "print(\"length (instance attribute):\", rectangle1.length)\n",
        "print(\"width (instance attribute):\", rectangle1.width)\n",
        "\n",
        "print()\n",
        "print('rectangle2')\n",
        "print(\"color (class attribute):\", rectangle2.color)\n",
        "print(\"length (instance attribute):\", rectangle2.length)\n",
        "print(\"width (instance attribute):\", rectangle2.width)"
      ]
    },
    {
      "cell_type": "markdown",
      "metadata": {
        "id": "WuXVeyH5wmhe"
      },
      "source": [
        "In the `Rectangle` constructor, `length` and `width` are the two parameters that are included. This means that to create a new `Rectangle` object, a user must provide these two arguments which will be specific to a newly created instance (7 and 8, respectively, for `rectangle1`, and 3 and 5 for `rectangle2`). The `color` attributes belong to the class as a whole, so any new `Rectangle` instance will be created as a `Rectangle` shape with a `green` color."
      ]
    },
    {
      "cell_type": "markdown",
      "metadata": {
        "id": "xQC50xRQF6lB"
      },
      "source": [
        "### Methods"
      ]
    },
    {
      "cell_type": "markdown",
      "metadata": {
        "id": "1R-y9Wc9CW9M"
      },
      "source": [
        "Within a class we can define **methods** that operate on instances of that class. Methods are similar to functions, but with special syntax and mechanisms for calling and handling of the `self` variable.\n",
        "Methods give us the ability to view, manipulate, and use data pertaining to the class or a specific instance. To illustrate, we will create an `area` method that will find the total area for a given rectangle instance."
      ]
    },
    {
      "cell_type": "code",
      "execution_count": null,
      "metadata": {
        "id": "vgTCpq-kB_RF"
      },
      "outputs": [],
      "source": [
        "class Rectangle():\n",
        "    color = 'green'\n",
        "\n",
        "    def __init__(self, length, width):\n",
        "        self.length = length\n",
        "        self.width = width\n",
        "\n",
        "    def area(self):\n",
        "        return self.length * self.width"
      ]
    },
    {
      "cell_type": "markdown",
      "metadata": {
        "id": "e7uMwNQTHFGo"
      },
      "source": [
        "Let's take a look at how we call this `area` method below. We use the dot `.` after the instance to indicate what method is being called, and then the parentheses `()` with any arguments needed by that method. Python arranges for the instance itself to be assigned to the `self` parameter in the `area` method, so that the code defined in this method within the `Rectangle` class has access to the particular `rectangle3` instance."
      ]
    },
    {
      "cell_type": "code",
      "execution_count": null,
      "metadata": {
        "colab": {
          "base_uri": "https://localhost:8080/"
        },
        "id": "7uBhXwNWE09r",
        "outputId": "8c3151d4-7db3-4cae-cac4-543a4b0e8529"
      },
      "outputs": [
        {
          "name": "stdout",
          "output_type": "stream",
          "text": [
            "Rectangle Area: 36\n"
          ]
        }
      ],
      "source": [
        "rectangle3 = Rectangle(9, 4)\n",
        "\n",
        "#Call the area method on this rectangle instance\n",
        "area = rectangle3.area()\n",
        "print(\"Rectangle Area:\", area)"
      ]
    },
    {
      "cell_type": "markdown",
      "metadata": {
        "id": "u9gSb3E8HkL8"
      },
      "source": [
        "**Exercise**: Define a method to calculate the perimeter of a rectangle, and call the method on a `rectangle4` instance with a `length` of `7` and `width` of `12`."
      ]
    },
    {
      "cell_type": "code",
      "execution_count": null,
      "metadata": {
        "id": "1ifVk2P6I6nS"
      },
      "outputs": [],
      "source": [
        "class Rectangle():\n",
        "    color = 'green'\n",
        "\n",
        "    def __init__(self, length, width):\n",
        "        self.length = length\n",
        "        self.width = width\n",
        "\n",
        "    def area(self):\n",
        "        return self.length * self.width\n",
        "\n",
        "    ##### YOUR CODE HERE #####\n",
        "\n",
        "\n",
        "#Call method to find perimeter of a rectangle4 instance\n",
        "##### YOUR CODE HERE #####"
      ]
    },
    {
      "cell_type": "code",
      "execution_count": null,
      "metadata": {
        "colab": {
          "base_uri": "https://localhost:8080/"
        },
        "id": "1XmfHPRoI19y",
        "outputId": "c7360602-c7db-4c3c-c44d-3886ca689bed"
      },
      "outputs": [
        {
          "name": "stdout",
          "output_type": "stream",
          "text": [
            "Perimeter of rectangle4:  38\n"
          ]
        }
      ],
      "source": [
        "#@title Solution Hidden { display-mode: \"form\" }\n",
        "\n",
        "class Rectangle():\n",
        "    color = 'green'\n",
        "\n",
        "    def __init__(self, length, width):\n",
        "        self.length = length\n",
        "        self.width = width\n",
        "\n",
        "    def area(self):\n",
        "        return self.length * self.width\n",
        "\n",
        "    def perimeter(self):\n",
        "        return 2*self.length + 2*self.width\n",
        "\n",
        "rectangle4 = Rectangle(7,12)\n",
        "\n",
        "print(\"Perimeter of rectangle4: \", rectangle4.perimeter())"
      ]
    },
    {
      "cell_type": "markdown",
      "metadata": {
        "id": "MCjvJC1qMZY8"
      },
      "source": [
        "Many times when defining classes, it is useful to define methods that are getters and setters. A **getter** method provides the ability to easily view a specific attribute. A **setter** method allows one to update the value of a specific attribute.\n",
        "\n",
        "We will create a setter method called `set_length` that allows us to update the value the `length` of a rectangle instance. Additionally, we will add a getter method `get_length` that allows us to retrieve the length of rectangle instance without directly accessing the member variable."
      ]
    },
    {
      "cell_type": "code",
      "execution_count": null,
      "metadata": {
        "id": "tWewrWYWShyJ"
      },
      "outputs": [],
      "source": [
        "class Rectangle():\n",
        "    color = 'green'\n",
        "\n",
        "    def __init__(self, length, width):\n",
        "        self.length = length\n",
        "        self.width = width\n",
        "\n",
        "    def area(self):\n",
        "        return self.length * self.width\n",
        "\n",
        "    def perimeter(self):\n",
        "        return 2*self.length + 2*self.width\n",
        "\n",
        "    def set_length(self, new_length):\n",
        "        self.length = new_length\n",
        "\n",
        "    def get_length(self):\n",
        "        return self.length"
      ]
    },
    {
      "cell_type": "code",
      "execution_count": null,
      "metadata": {
        "colab": {
          "base_uri": "https://localhost:8080/"
        },
        "id": "p_Dhl1NMTvGE",
        "outputId": "cd153182-2df6-49b2-b145-39e2bf248ba0"
      },
      "outputs": [
        {
          "name": "stdout",
          "output_type": "stream",
          "text": [
            "Original rectangle5 size: (12, 13)\n",
            "Updated rectangle5 size:  (44, 13)\n"
          ]
        }
      ],
      "source": [
        "#Instantiating new rectangle\n",
        "rectangle5 = Rectangle(12, 13)\n",
        "print(\"Original rectangle5 size:\", (rectangle5.length, rectangle5.width))\n",
        "\n",
        "#Setting length of rectangle5 to be a new value\n",
        "rectangle5.set_length(44)\n",
        "print(\"Updated rectangle5 size: \", (rectangle5.length, rectangle5.width))\n"
      ]
    },
    {
      "cell_type": "markdown",
      "metadata": {
        "id": "egkK0pTpKaq1"
      },
      "source": [
        "### Inheritance"
      ]
    },
    {
      "cell_type": "markdown",
      "metadata": {
        "id": "uDbejSdqpTCf"
      },
      "source": [
        "**Inheritance** allows us to define a class that inherits methods and attributes from another class. The superclass class is the class being inherited from, while the subclass is the class that inherits from the superclass. Attributes and methods from the superclass will now also be accessible in the subclass. Here, `Square` is defined to be a subclass of the `Rectangle` superclass:"
      ]
    },
    {
      "cell_type": "code",
      "execution_count": null,
      "metadata": {
        "id": "kaJYmLzkjx1n"
      },
      "outputs": [],
      "source": [
        "class Square(Rectangle):\n",
        "\n",
        "    def __init__(self, side):\n",
        "        self.side = side\n",
        "        Rectangle.__init__(self, side, side)\n",
        "\n",
        "    def print_square_greeting(self):\n",
        "        return \"Hello, I am a square!\""
      ]
    },
    {
      "cell_type": "code",
      "execution_count": null,
      "metadata": {
        "colab": {
          "base_uri": "https://localhost:8080/"
        },
        "id": "myXAFQVhl-AC",
        "outputId": "0c9a997f-8465-42d5-b59b-d374293c1020"
      },
      "outputs": [
        {
          "name": "stdout",
          "output_type": "stream",
          "text": [
            "Type of square1 is: <class '__main__.Square'>\n",
            "isinstance(square1, Square): True\n",
            "isinstance(square1, Rectangle): True\n",
            "\n",
            "Perimeter of square1 is: 20\n",
            "Area of square1 is: 25\n",
            "Width of square1 is: 5\n",
            "Unique method only in square class: Hello, I am a square!\n"
          ]
        }
      ],
      "source": [
        "#square1 is an instance of Square\n",
        "square1 = Square(5)\n",
        "print(\"Type of square1 is:\", type(square1))\n",
        "print(\"isinstance(square1, Square):\", isinstance(square1, Square))\n",
        "\n",
        "#note that our square is ALSO a Rectangle:\n",
        "print(\"isinstance(square1, Rectangle):\", isinstance(square1, Rectangle))\n",
        "\n",
        "# so we can call either Square or Rectangle methods on our square1:\n",
        "print()\n",
        "print(\"Perimeter of square1 is:\", square1.perimeter())\n",
        "print(\"Area of square1 is:\", square1.area())\n",
        "print(\"Width of square1 is:\", square1.width) #inherits superclass instance variables too\n",
        "print(\"Length of square1 is:\", square1.length) #inherits superclass instance variables too\n",
        "print(\"Unique method only in square class:\", square1.print_square_greeting())\n",
        "\n",
        "#This line would raise an error, as the method is only in Square class:\n",
        "#rectangle5.print_square_greeting"
      ]
    },
    {
      "cell_type": "markdown",
      "metadata": {
        "id": "5x8pEMOTIyIK"
      },
      "source": [
        "### Exercise: Define `BankAccount` Class"
      ]
    },
    {
      "cell_type": "markdown",
      "metadata": {
        "id": "C6GaEQ9RstEQ"
      },
      "source": [
        "Define a class named `BankAccount` that satisfies the specification below. Note that everything between the first `'''` and the corresponding `'''` is a comment, often provided at the start of a class to help document what the class does."
      ]
    },
    {
      "cell_type": "code",
      "execution_count": null,
      "metadata": {
        "id": "4JHoO4hPI4so"
      },
      "outputs": [],
      "source": [
        "class BankAccount():\n",
        "    '''\n",
        "    Instance attributes\n",
        "      balance: integer that stores bank balance in dollars\n",
        "\n",
        "    Methods\n",
        "      get_balance(): gets current value of bank balance\n",
        "\n",
        "      deposit(val): adds specified value to balance\n",
        "\n",
        "      withdraw(val): if there are sufficient funds in account,\n",
        "      subtracts val from balance and returns True; otherwise\n",
        "      returns False\n",
        "    '''"
      ]
    },
    {
      "cell_type": "code",
      "execution_count": null,
      "metadata": {
        "id": "WiT7Otu2sqdW",
        "outputId": "9046dbf1-da62-4a84-e3bb-30207c54ad76"
      },
      "outputs": [
        {
          "name": "stdout",
          "output_type": "stream",
          "text": [
            "Balance: 500\n",
            "Was able to withdraw $300: True ; Balance now: 200\n",
            "Was able to withdraw $300: False ; Balance now: 200\n"
          ]
        }
      ],
      "source": [
        "#@title Solution Hidden { display-mode: \"form\" }\n",
        "\n",
        "class BankAccount():\n",
        "    '''\n",
        "    Instance attributes\n",
        "      balance: integer that stores bank balance in dollars\n",
        "\n",
        "    Methods\n",
        "      get_balance(): gets current value of bank balance\n",
        "\n",
        "      deposit(val): adds specified value to balance\n",
        "\n",
        "      withdraw(val): if there are sufficient funds in account,\n",
        "      subtracts val from balance and returns True; otherwise\n",
        "      returns False\n",
        "    '''\n",
        "\n",
        "    def __init__(self, initial_balance):\n",
        "        self.balance = initial_balance\n",
        "\n",
        "    def get_balance(self):\n",
        "        return self.balance\n",
        "\n",
        "    def deposit(self, val):\n",
        "        self.balance += val\n",
        "\n",
        "    def withdraw(self, val):\n",
        "        if self.balance >= val:\n",
        "            self.balance -= val\n",
        "            return True\n",
        "        else:\n",
        "            return False\n",
        "\n",
        "my_account = BankAccount(500)\n",
        "print(\"Balance:\", my_account.get_balance())\n",
        "\n",
        "success = my_account.withdraw(300)\n",
        "print(\"Was able to withdraw $300:\", success, \"; Balance now:\", my_account.get_balance())\n",
        "\n",
        "success = my_account.withdraw(300)\n",
        "print(\"Was able to withdraw $300:\", success, \"; Balance now:\", my_account.get_balance())"
      ]
    },
    {
      "cell_type": "markdown",
      "metadata": {
        "id": "gwSBZ4fR_NqT"
      },
      "source": [
        "Additional Resource: https://ocw.mit.edu/courses/electrical-engineering-and-computer-science/6-0001-introduction-to-computer-science-and-programming-in-python-fall-2016/lecture-slides-code/MIT6_0001F16_Lec9.pdf"
      ]
    },
    {
      "cell_type": "code",
      "execution_count": null,
      "metadata": {
        "id": "jfnm_5c39WpH"
      },
      "outputs": [],
      "source": []
    }
  ],
  "metadata": {
    "colab": {
      "provenance": [],
      "include_colab_link": true
    },
    "kernelspec": {
      "display_name": "Python 3",
      "language": "python",
      "name": "python3"
    },
    "language_info": {
      "codemirror_mode": {
        "name": "ipython",
        "version": 3
      },
      "file_extension": ".py",
      "mimetype": "text/x-python",
      "name": "python",
      "nbconvert_exporter": "python",
      "pygments_lexer": "ipython3",
      "version": "3.8.10"
    }
  },
  "nbformat": 4,
  "nbformat_minor": 0
}