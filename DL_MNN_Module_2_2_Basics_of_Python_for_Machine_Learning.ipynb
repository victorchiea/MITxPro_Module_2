{
  "nbformat": 4,
  "nbformat_minor": 0,
  "metadata": {
    "colab": {
      "provenance": [],
      "include_colab_link": true
    },
    "kernelspec": {
      "display_name": "Python 3",
      "language": "python",
      "name": "python3"
    },
    "language_info": {
      "codemirror_mode": {
        "name": "ipython",
        "version": 3
      },
      "file_extension": ".py",
      "mimetype": "text/x-python",
      "name": "python",
      "nbconvert_exporter": "python",
      "pygments_lexer": "ipython3",
      "version": "3.8.10"
    }
  },
  "cells": [
    {
      "cell_type": "markdown",
      "metadata": {
        "id": "view-in-github",
        "colab_type": "text"
      },
      "source": [
        "<a href=\"https://colab.research.google.com/github/victorchiea/MITxPro_Module_2/blob/main/DL_MNN_Module_2_2_Basics_of_Python_for_Machine_Learning.ipynb\" target=\"_parent\"><img src=\"https://colab.research.google.com/assets/colab-badge.svg\" alt=\"Open In Colab\"/></a>"
      ]
    },
    {
      "cell_type": "markdown",
      "metadata": {
        "id": "DVFP2UXMEFMF"
      },
      "source": [
        "# **Module 2: Basics of Python for Machine Learning**\n",
        "\n",
        "## Introduction\n",
        "In the previous notebooks, we covered a brief introduction to the Python programming language and its basic capabilities. We will now build upon those basic Python building blocks and investigate how to use those concepts to perform two classic machine learning tasks.\n",
        "In this notebook, we will write a simple implementation of a simple neural network consisting of a **single neuron**. We will also implement basic gradient-descent training algorithms for single neuron models.\n",
        "\n",
        "We will start with application of a single neuron model to **regression**: predicting some real value $\\hat{y}^{(i)} = f(x^{(i)})$ for some datapoint $i$ (where we have used the superscript notation $(i)$ to indicate which of $n$ datapoints we are considering). We will use Python to directly implement the forward calculation of $y$ as well as to calculate its gradient with respect to weights. We will also implement a basic gradient descent training algorithm, to learn those weights.\n",
        "\n",
        "Then, as a second application of a single neuron model, we will consider **classification**.\n",
        "As we learned in Module 1, the single neuron can be used to implement a binary classifier, also known as **logistic regresssion**. Binary classification and training is another subset of supervised learning, where we train using data containing input-output $(x^{(i)}, y^{(i)})$ pairs. In this case, our outputs are now labels that can belong to one of only two classes. Here, our single neuron model will output a real value between 0 and 1, which represents the probability of the input $x^{(i)}$ having the positive (1) label.\n",
        "\n",
        "## Single Neuron Models\n",
        "\n",
        "Our single neuron models consist of a single neuron or node, that sums weighted multiplications of the features of an input sample, adds a bias term, and then passes that sum through some activation function. For regression, we will use a linear activation function, i.e., just the identity function. For classification, we will use a sigmoid function.\n",
        "\n",
        "More specifically, our single neuron model will take the dot product of an input training example $x^{(i)}$ with some learned weights $w$ and adding a learned bias $w_0$ to produce a pre-activation $z$. We then apply some activation function $f$ to $z$ to produce an activation $a$, which for this single neuron will be our output prediction $\\hat{y}$. Importantly, $x$ and $w$ can be vectors, which we will just represent as lists in our Python code. We will use a subscript notation, e.g., $x_j$ to indicate feature $j$ within data input $x$, where $j$ goes from 1 to $m$ total features.\n",
        "\n",
        "The following is the formal mathematical notation for our single neuron model:  \n",
        "\n",
        "$$\n",
        "z = w^T x + w_0\\\\\n",
        "a = f(z) \\\\\n",
        "y = a\n",
        "$$\n",
        "\n",
        "## Single Neuron Regression Model:\n",
        "\n",
        "In the following code block, we implement the necessary setup for a single neuron regression model in Python. This will use a linear function $f(z) = z$ as the activation function."
      ]
    },
    {
      "cell_type": "code",
      "metadata": {
        "id": "HcJ88E3nC7Dw"
      },
      "source": [
        "# First we need to import packages that will be used for visualization.\n",
        "# You can ignore this for now as we will explain further in a future notebook\n",
        "import numpy as np\n",
        "import math, random\n",
        "import matplotlib.pyplot as plt\n",
        "from mpl_toolkits import mplot3d\n",
        "\n",
        "def single_neuron_regression_model(w, w_0, x):\n",
        "    # Perform the dot product on the input x and the learned weights w\n",
        "    z = 0\n",
        "    for feature, weight in zip(x, w):\n",
        "        z += feature * weight\n",
        "    z += w_0  #Add the bias term\n",
        "\n",
        "    # Apply the activation function, and return\n",
        "    a = linear(z)\n",
        "    return a\n",
        "\n",
        "# simple linear activiation function: just returns identity\n",
        "def linear(z):\n",
        "    return z\n",
        "\n",
        "# You can see that we wrote our single neuron regression function without making an\n",
        "# assumption about how many dimensions are in the input data (e.g., we might have\n",
        "# only one x feature, or 10 features, or any other number of features). This is\n",
        "# key so that the model can learn using a dataset with any dimension x vector."
      ],
      "execution_count": null,
      "outputs": []
    },
    {
      "cell_type": "code",
      "metadata": {
        "id": "JKDJXqOFCtv-",
        "colab": {
          "base_uri": "https://localhost:8080/"
        },
        "outputId": "097b2ef0-3fdb-4dea-f167-07f41de7ec33"
      },
      "source": [
        "# Test: model output for a single 2D datapoint:\n",
        "x = [1, 2]\n",
        "w = [5, 3]\n",
        "w_0 = -8\n",
        "\n",
        "y = single_neuron_regression_model(w, w_0, x)\n",
        "print(\"input\", x, \"=> output\", y)"
      ],
      "execution_count": null,
      "outputs": [
        {
          "output_type": "stream",
          "name": "stdout",
          "text": [
            "input [1, 2] => output 3\n"
          ]
        }
      ]
    },
    {
      "cell_type": "markdown",
      "metadata": {
        "id": "r9wO1DCgbpSu"
      },
      "source": [
        "## Training our regression model - Gradient Descent\n",
        "\n",
        "Now that we have implemented a regression model function, we can use it to make predictions for any arbitrary input. However, without a set of trained weights, our model prediction function won't actually provide good predictions based on our data.\n",
        "\n",
        "In order to solve that problem, we need to implement a training algorithm to find good weights $w$ and $w_0$ based on our data set. We will use gradient-descent, a foundational pillar in deep learning, to find the weights that minimize a cost function, $J$, where $J$ is the total *loss* $L$ over our training data:\n",
        "\n",
        "$$ J = \\sum_i^n L(\\hat{y}^{(i)}, y^{(i)})$$\n",
        "\n",
        "We will begin with a relatively simple loss function appropriate for the regression problem: we will use squared error (SE) loss where $\\epsilon^{(i)}$ is our error for any given sample $i$:\n",
        "\n",
        "$$ L_{SE}(\\hat{y}^{(i)}, y^{(i)}) = \\frac{1}{2} (\\hat{y_i} - y_i)^2 = \\frac{1}{2} \\epsilon^2 $$\n",
        "\n",
        "The training process goes as follows:\n",
        "* We will perform the training loop for a specified number of iterations through our dataset, also known as epochs.\n",
        "* In each epoch, we will look at each input and output $(x^{(i)},y^{(i)})$ pair. For each pair, we:\n",
        "\n",
        "  * Calculate the loss $L$ between the correct value $y$ and the predicted value $\\hat{y}$\n",
        "  * Calculate the gradient of the loss with respect to each weight, and\n",
        "  * Update the weights based on the gradient and the learning rate, $\\eta$:\n",
        "  \n",
        "$$ w_{j,new} = w_j - \\eta \\frac{dJ}{dw_j}$$\n",
        "  \n",
        "This is the basic concept of gradient based learning: we are nudging each weight along the gradient of the cost function with respect to that weight, to help the neural network predict more accurately.\n",
        "\n",
        "### Gradient descent with squared error (SE) loss\n",
        "\n",
        "In the case of our squared error loss, for any sample data point $i$ this works out to:\n",
        "\n",
        "$$ \\frac{dJ}{dw_j} = \\frac{dL_{SE}}{dw_j}  \n",
        "  = \\frac{dL_{SE}}{d\\hat{y}} \\frac{d\\hat{y}}{dw_j}\n",
        "  = (\\hat{y} - y) \\frac{d\\hat{y}}{dw_j} $$\n",
        "\n",
        "Importantly, we see that we need to be able to calculate the gradient of the model output with respect to each weight:\n",
        "\n",
        "$$ \\frac{d\\hat{y}}{dw_j} = \\frac{df(z)}{dz} \\frac{dz}{dw_j} $$\n",
        "\n",
        "For the linear activation function $f(z) = z$, the first term is very simple: $\\frac{df(z)}{dz} = 1$.\n",
        "\n",
        "For the second term, recall that\n",
        "\n",
        "$$ z = w_0 + x_1 \\cdot w_1 + \\cdots + x_j \\cdot w_j + \\dots + x_m \\cdot w_m $$\n",
        "\n",
        "so $\\frac{dz}{dw_j} = x_j$, except for $w_0$, where $\\frac{dz}{dw_0} = 1.$\n",
        "\n",
        "### Gradient descent implementation -- squared error loss:"
      ]
    },
    {
      "cell_type": "code",
      "metadata": {
        "id": "L6uSsA98ffTq"
      },
      "source": [
        "# Now lets define our training function, for the case of squared error (SE) loss.\n",
        "# Again we will make it indifferent to the dimension of the input data, and make it\n",
        "# flexible to work with different model functions.\n",
        "def train_model_SE_loss(model_function, w, w_0,\n",
        "                        input_data, output_data,\n",
        "                        learning_rate, num_epochs):\n",
        "    do_print = False\n",
        "    for epoch in range(num_epochs):\n",
        "        total_loss = 0 #keep track of total loss across the data set\n",
        "        for x, y in zip(input_data, output_data):\n",
        "            y_predicted = model_function(w, w_0, x)\n",
        "            error = y_predicted - y\n",
        "            total_loss += (error**2)/2\n",
        "            if do_print: print(\"x:\", x, \"y:\", y, \"error:\", error)\n",
        "            if do_print: print(\" old weights:\", w, w_0)\n",
        "\n",
        "            # update bias coefficent using gradient w.r.t w_0\n",
        "            w_0 -= learning_rate * error * 1\n",
        "\n",
        "            # update other model coefficients using gradient w.r.t that coefficient\n",
        "            for j, x_j in enumerate(x):\n",
        "                w[j] -= learning_rate * error * x_j\n",
        "            if do_print: print(\" new weights:\", w, w_0)\n",
        "\n",
        "        report_every = max(1, num_epochs // 10)\n",
        "        if epoch % report_every == 0: #every few epochs, report on progress\n",
        "            print(\"epoch\", epoch, \"has total loss\", total_loss)\n",
        "\n",
        "    return w, w_0"
      ],
      "execution_count": null,
      "outputs": []
    },
    {
      "cell_type": "code",
      "metadata": {
        "id": "z7qfYFuQCtwC"
      },
      "source": [
        "# We will use this function to evaluate how well our trained regression\n",
        "# model perfoms. This will calculate the mean square error over our data.\n",
        "def evaluate_regression_accuracy(model_function, w, w_0, input_data, output_data):\n",
        "    total_loss = 0\n",
        "    n = len(input_data)\n",
        "    for x, y in zip(input_data, output_data):\n",
        "        y_predicted = model_function(w, w_0, x)\n",
        "        error = y_predicted - y\n",
        "        total_loss += (error**2)/2\n",
        "    accuracy = total_loss / n\n",
        "    print(\"Our model has mean square error of\", accuracy)\n",
        "    return accuracy"
      ],
      "execution_count": null,
      "outputs": []
    },
    {
      "cell_type": "markdown",
      "metadata": {
        "id": "aHzwcsnQkV6E"
      },
      "source": [
        "## Single Neuron Regression Example\n",
        "\n",
        "Now that we have our regression model function and our training function, all that's left to do is call each of those on a dataset! Below, we will train the single neuron on a toy dataset and visualize the fit."
      ]
    },
    {
      "cell_type": "code",
      "metadata": {
        "colab": {
          "base_uri": "https://localhost:8080/",
          "height": 265
        },
        "id": "IiZRKTyjk21f",
        "outputId": "679e180c-3f39-436c-d8e0-749d2297587a"
      },
      "source": [
        "# Here we have a simple 1D set of input data: a list of x points, each a list of length 1,\n",
        "# and with a corresponding y response.\n",
        "X_1D = [[1], [-2], [3], [4.5], [0], [-4], [-1], [4], [-1]]\n",
        "Y_1D = [4,   3,    6,   8,     2,   -3,   -2,   7,   2.5]\n",
        "\n",
        "# This utility function will allow us to visualize a given 1D dataset.\n",
        "# You don't need to understand this code right now.\n",
        "def plot_dataset_1D(x, y):\n",
        "    x_np = np.array(x)\n",
        "    y_np = np.array(y)\n",
        "    plt.scatter(x_np[...,0], y_np)\n",
        "\n",
        "# This utility function will allow us to visualize a 1D fit.\n",
        "def plot_fit_1D(X, w, w_0):\n",
        "    ylim = plt.ylim()\n",
        "    x_np = np.array(X)\n",
        "    y_pred = np.array([single_neuron_regression_model(w, w_0, x) for x in X])\n",
        "    plt.plot(x_np[...,0], y_pred, color=\"red\")\n",
        "    plt.ylim(ylim)\n",
        "\n",
        "# Visualize the above dataset\n",
        "plot_dataset_1D(X_1D, Y_1D)\n",
        "# plot_fit_1D(X_1D, [1, 2], 0.5)"
      ],
      "execution_count": null,
      "outputs": [
        {
          "output_type": "display_data",
          "data": {
            "image/png": "[encoded data removed]",
            "text/plain": [
              "<Figure size 432x288 with 1 Axes>"
            ]
          },
          "metadata": {
            "needs_background": "light"
          }
        }
      ]
    },
    {
      "cell_type": "markdown",
      "metadata": {
        "id": "RMDDQY7GCtwF"
      },
      "source": [
        "### Learn weights for our regression model!"
      ]
    },
    {
      "cell_type": "code",
      "metadata": {
        "colab": {
          "base_uri": "https://localhost:8080/",
          "height": 525
        },
        "id": "GEoakGCIk9CO",
        "outputId": "79b3fffb-1b35-4a57-910e-1df48bfa7642"
      },
      "source": [
        "# In this example we set the initial weights to zero and the learning rate\n",
        "# relatively small.\n",
        "w_0 = 0\n",
        "w = [0]\n",
        "learning_rate = 0.01\n",
        "epochs = 11\n",
        "\n",
        "w, w_0 = train_model_SE_loss(single_neuron_regression_model, w, w_0,\n",
        "                             X_1D, Y_1D,\n",
        "                             learning_rate, epochs)\n",
        "print(\"\\nFinal weights:\")\n",
        "print(w, w_0)\n",
        "evaluate_regression_accuracy(single_neuron_regression_model, w, w_0, X_1D, Y_1D)\n",
        "\n",
        "plot_dataset_1D(X_1D, Y_1D)\n",
        "plot_fit_1D(X_1D, w, w_0)"
      ],
      "execution_count": null,
      "outputs": [
        {
          "output_type": "stream",
          "name": "stdout",
          "text": [
            "epoch 0 has total loss 75.15118164194563\n",
            "epoch 1 has total loss 40.109157956509094\n",
            "epoch 2 has total loss 29.801523004849642\n",
            "epoch 3 has total loss 25.47970121810249\n",
            "epoch 4 has total loss 22.84563043777799\n",
            "epoch 5 has total loss 20.86922066083035\n",
            "epoch 6 has total loss 19.269845776759738\n",
            "epoch 7 has total loss 17.945486824052068\n",
            "epoch 8 has total loss 16.841512143299816\n",
            "epoch 9 has total loss 15.91945696552539\n",
            "epoch 10 has total loss 15.148892782711584\n",
            "\n",
            "Final weights:\n",
            "[1.2616634248232683] 1.589875809042491\n",
            "Our model has mean square error of 1.5758191255565894\n"
          ]
        },
        {
          "output_type": "display_data",
          "data": {
            "image/png": "[encoded data removed]",
            "text/plain": [
              "<Figure size 432x288 with 1 Axes>"
            ]
          },
          "metadata": {
            "needs_background": "light"
          }
        }
      ]
    },
    {
      "cell_type": "markdown",
      "metadata": {
        "id": "Y0bEMscQCtwH"
      },
      "source": [
        "# Single Neuron Classification Model\n",
        "For the classification problem, we need to implement only a few changes. First, we change the activation function to a sigmoid; this squashes the pre-activation $z$ down to an activation (output) that is between 0 and 1. We also need to implement the gradient calculation, with this sigmoid activation function.\n",
        "\n",
        "Finally, for the classification problem, we will use a different loss function: the negative log-likelihood (NLL) loss. This will enable our previous training code to still work, but for the classification rather than regression problem.\n",
        "\n",
        "### Gradient descent with negative log-likelihood (NLL) loss\n",
        "\n",
        "In the case of our NLL loss, for any sample data point $i$, the gradient of $J$ with respect to weights works out to:\n",
        "\n",
        "$$ \\frac{dJ}{dw_j} = \\frac{dL_{NLL}}{dw_j}  \n",
        "  = \\frac{dL_{NLL}}{d\\hat{y}} \\frac{d\\hat{y}}{dw_j}  \n",
        "  = \\frac{dL_{NLL}}{d\\hat{y}} \\frac{d\\hat{y}}{dz} \\frac{dz}{dw_j}\n",
        "  = \\frac{dL_{NLL}}{d\\hat{y}} \\frac{d\\sigma{(z)}}{dz} \\frac{dz}{dw_j} .\n",
        " $$\n",
        "\n",
        "For the first term, we recall our definition $L_{NLL} = y \\log{\\hat{y}} + (1-y)\\log{(1-\\hat{y})}$,\n",
        "giving us the following after some algebra:\n",
        "\n",
        "$$ \\frac{dL_{NLL}}{d\\hat{y}} = \\frac{y-\\hat{y}}{\\hat{y}(1-\\hat{y})} .$$\n",
        "\n",
        "For the second term, our derivative of the activation function $\\sigma(z)$, we get:\n",
        "\n",
        "$$ \\frac{d\\sigma{(z)}}{dz} = \\sigma(z)(1-\\sigma(z)  = \\hat{y}(1-\\hat{y}).$$\n",
        "\n",
        "And finally, the last term is simply $\\frac{dz}{dw_j} = x$, except for $\\frac{dz}{dw_0} = 1$.\n"
      ]
    },
    {
      "cell_type": "code",
      "metadata": {
        "id": "ZD7pX13yCtwH"
      },
      "source": [
        "def single_neuron_classification_model(w, w_0, x):\n",
        "    # Perform the dot product on the input x and the learned weights w\n",
        "    z = 0\n",
        "    for feature, weight in zip(x, w):\n",
        "        z += feature * weight\n",
        "    z += w_0  #Add the bias term\n",
        "\n",
        "    # Apply the activation function, and return\n",
        "    a = sigmoid(z) #ONLY CHANGE!\n",
        "    return a\n",
        "\n",
        "# sigmoid activation function; squashes a real value z to between 0 and 1\n",
        "def sigmoid(z):\n",
        "    non_zero_tolerance = 1e-8 # add this to divisions to ensure we don't divide by 0\n",
        "    return 1 / (1 + math.exp(-z) + non_zero_tolerance)"
      ],
      "execution_count": null,
      "outputs": []
    },
    {
      "cell_type": "code",
      "source": [
        "# Let's visualize the Sigmoid function below:\n",
        "sig_x = np.arange(-10, 10, .2)\n",
        "sig_y = [sigmoid(x) for x in sig_x]\n",
        "plt.plot(sig_x, sig_y)\n",
        "plt.show"
      ],
      "metadata": {
        "colab": {
          "base_uri": "https://localhost:8080/",
          "height": 282
        },
        "id": "qFsK0F6cBcvS",
        "outputId": "0e8ef794-5a2c-4cb4-b02b-67fb85886a29"
      },
      "execution_count": null,
      "outputs": [
        {
          "output_type": "execute_result",
          "data": {
            "text/plain": [
              "<function matplotlib.pyplot.show>"
            ]
          },
          "metadata": {},
          "execution_count": 9
        },
        {
          "output_type": "display_data",
          "data": {
            "image/png": "[encoded data removed]",
            "text/plain": [
              "<Figure size 432x288 with 1 Axes>"
            ]
          },
          "metadata": {
            "needs_background": "light"
          }
        }
      ]
    },
    {
      "cell_type": "markdown",
      "source": [
        "We can see from the above graph that the Sigmoid function effectively \"squashes\" all inputs between the values of 0 and 1! This is perfect for our logistic regression use case."
      ],
      "metadata": {
        "id": "3b4-0P0AC7MS"
      }
    },
    {
      "cell_type": "code",
      "metadata": {
        "id": "o_brnuXECtwI",
        "colab": {
          "base_uri": "https://localhost:8080/"
        },
        "outputId": "0514cd87-54bb-4350-f6ee-927987879974"
      },
      "source": [
        "# Test: model output for a single 2D datapoint:\n",
        "x = [1, 2]\n",
        "w = [5, 3]\n",
        "w_0 = -8\n",
        "\n",
        "y = single_neuron_classification_model(w, w_0, x)\n",
        "print(\"input\", x, \"=> output\", y)"
      ],
      "execution_count": null,
      "outputs": [
        {
          "output_type": "stream",
          "name": "stdout",
          "text": [
            "input [1, 2] => output 0.9525741177484588\n"
          ]
        }
      ]
    },
    {
      "cell_type": "markdown",
      "metadata": {
        "id": "bmgs9TC6CtwI"
      },
      "source": [
        "## Single Neuron Classification Example\n",
        "\n",
        "Now we turn to training the single neuron classifier. Here we will use our classification function and adapt our training function to use NLL loss."
      ]
    },
    {
      "cell_type": "code",
      "metadata": {
        "id": "oOG_JMgACtwI"
      },
      "source": [
        "# Training process, using negative log likelihood (NLL) loss --\n",
        "# appropriate for classification problems\n",
        "#\n",
        "def train_model_NLL_loss(model_function, w, w_0,\n",
        "                         input_data, output_data,\n",
        "                         learning_rate, num_epochs):\n",
        "    non_zero_tolerance = 1e-8 # add this to log calculations to ensure we don't take the log of 0\n",
        "    do_print = False\n",
        "    for epoch in range(num_epochs):\n",
        "        total_loss = 0 #keep track of total loss across the data set\n",
        "        for x, y in zip(input_data, output_data):\n",
        "            y_predicted = model_function(w, w_0, x)\n",
        "            nll_loss = -(y * math.log(y_predicted + non_zero_tolerance) + (1-y) * math.log(1-y_predicted + non_zero_tolerance))\n",
        "\n",
        "            total_loss += nll_loss\n",
        "            if do_print: print(\"x:\", x, \"y:\", y, \"nll_loss:\", nll_loss)\n",
        "            if do_print: print(\" old weights:\", w, w_0)\n",
        "\n",
        "            # update bias coefficent using gradient w.r.t w_0\n",
        "            w_0 -= learning_rate * (y_predicted - y)\n",
        "\n",
        "            # update other model coefficients using gradient w.r.t that coeff\n",
        "            for j, x_j in enumerate(x):\n",
        "                w[j] -= learning_rate * (y_predicted - y) * x_j\n",
        "\n",
        "            if do_print: print(\" new weights:\", w, w_0)\n",
        "\n",
        "        report_every = max(1, num_epochs // 10)\n",
        "        if epoch % report_every == 0: #every few epochs, report on progress\n",
        "            print(\"epoch\", epoch, \"has total loss\", total_loss)\n",
        "\n",
        "    return w, w_0"
      ],
      "execution_count": null,
      "outputs": []
    },
    {
      "cell_type": "code",
      "metadata": {
        "id": "oSDYKSrrCtwJ"
      },
      "source": [
        "# We will use this function to evaluate how well our trained classifier perfoms\n",
        "def evaluate_classification_accuracy(model_function, w, w_0, input_data, labels):\n",
        "    # Count the number of correctly classified samples given a set of weights\n",
        "    correct = 0\n",
        "    n = len(input_data)\n",
        "    for x, y in zip(input_data, labels):\n",
        "        y_predicted = model_function(w, w_0, x)\n",
        "        label_predicted = 1 if y_predicted > 0.5 else 0\n",
        "        if label_predicted == y:\n",
        "            correct += 1\n",
        "        else:\n",
        "            print(\"Misclassify\", x, y, \"with activation\", y_predicted)\n",
        "    accuracy = correct / n\n",
        "    print(\"Our model predicted\", correct, \"out of\", n,\n",
        "          \"correctly for\", accuracy*100, \"% accuracy\")\n",
        "    return accuracy"
      ],
      "execution_count": null,
      "outputs": []
    },
    {
      "cell_type": "code",
      "metadata": {
        "colab": {
          "base_uri": "https://localhost:8080/",
          "height": 265
        },
        "id": "pvlPgC0DCtwJ",
        "outputId": "843e60c1-b9a4-45c0-8418-911d92dfeb65"
      },
      "source": [
        "# Here we have a dataset of 2D linearly separable datapoints\n",
        "input_data = [[1, 1],\n",
        "              [1, 5],\n",
        "              [-2, 3],\n",
        "              [3, -4],\n",
        "              [4.5, 2],\n",
        "              [0, 1],\n",
        "              [-4, -4],\n",
        "              [-1, 2],\n",
        "              [4, -7],\n",
        "              [-1, 8]]\n",
        "# And their corresponding labels\n",
        "labels = [1, 1, 0, 1, 1, 0, 0, 0, 1, 0]\n",
        "\n",
        "# This utility function will allow us to visualize a given 2D dataset.\n",
        "# You don't need to understand this code right now.\n",
        "def plot_dataset_2D(x, y):\n",
        "    x_np = np.array(x)\n",
        "    x_np.reshape(len(x), 2)\n",
        "    colors = []\n",
        "    for label in y:\n",
        "        if label == 0:\n",
        "            colors.append(\"red\")\n",
        "        else:\n",
        "            colors.append(\"blue\")\n",
        "    plt.scatter(x_np[...,0], x_np[...,1], color=colors)\n",
        "\n",
        "# This utility function will allow us to visualize a 2D decision boundary\n",
        "def plot_decision_boundary_2D(w, w_0):\n",
        "    ylim = plt.ylim()\n",
        "    x1 = np.arange(-5,6)\n",
        "    plt.plot(x1, (-w_0 - w[0]*x1)/w[1])\n",
        "    plt.ylim(ylim)\n",
        "\n",
        "# Visualize the above dataset\n",
        "plot_dataset_2D(input_data, labels)\n",
        "plot_decision_boundary_2D([1, 0.0001], -0.5)\n"
      ],
      "execution_count": null,
      "outputs": [
        {
          "output_type": "display_data",
          "data": {
            "image/png": "[encoded data removed]",
            "text/plain": [
              "<Figure size 432x288 with 1 Axes>"
            ]
          },
          "metadata": {
            "needs_background": "light"
          }
        }
      ]
    },
    {
      "cell_type": "markdown",
      "metadata": {
        "id": "mMjJfg2wjzWH"
      },
      "source": [
        "We can see from the plot that the dataset is linearly separable, meaning we can separate the positive samples (blue) from the negative samples (red) with a straight line.\n",
        "\n",
        "## Training Real Weights -- Single Neuron Classifier\n",
        "\n",
        "Now that we have our dataset, we would like to train our single neuron classification model to come up with a set of weights that will accurately classify our dataset. In order to do this, we have three different knobs we can turn: the initial weights, the learning rate, and the number of epochs. In the following examples we will see how each of these impacts the model's ability to converge on an accurate decision boundary.\n",
        "\n",
        "As a general rule of thumb, we would like our learning rate to be small compared to the values of our input data, our initial weights relatively small (often, randomly initialized), and the number of epochs relatively large. There is a lot of research that has been done to determine the optimal settings for these parameters, so this is definitely a simplification."
      ]
    },
    {
      "cell_type": "code",
      "metadata": {
        "colab": {
          "base_uri": "https://localhost:8080/",
          "height": 543
        },
        "id": "Oik0mfpKCtwK",
        "outputId": "5609042c-e39b-401e-b588-aeda3a1fa3fe"
      },
      "source": [
        "# In this example we set the initial weights to zero and the learning rate\n",
        "# relatively small. However, we only train for a few epochs which is not\n",
        "# enough to converge on an accurate classifier.\n",
        "w_0 = 0\n",
        "w = [0, 0]\n",
        "learning_rate = 0.01\n",
        "epochs = 11\n",
        "\n",
        "w, w_0 = train_model_NLL_loss(single_neuron_classification_model, w, w_0,\n",
        "                              input_data, labels,\n",
        "                              learning_rate, epochs)\n",
        "print(\"\\nFinal weights:\")\n",
        "print(w, w_0)\n",
        "evaluate_classification_accuracy(single_neuron_classification_model, w, w_0, input_data, labels)\n",
        "plot_dataset_2D(input_data, labels)\n",
        "plot_decision_boundary_2D(w, w_0)"
      ],
      "execution_count": null,
      "outputs": [
        {
          "output_type": "stream",
          "name": "stdout",
          "text": [
            "epoch 0 has total loss 6.508594077659496\n"
          ]
        },
        {
          "output_type": "display_data",
          "data": {
            "application/javascript": [
              "\n",
              "    async function download(id, filename, size) {\n",
              "      if (!google.colab.kernel.accessAllowed) {\n",
              "        return;\n",
              "      }\n",
              "      const div = document.createElement('div');\n",
              "      const label = document.createElement('label');\n",
              "      label.textContent = `Downloading \"${filename}\": `;\n",
              "      div.appendChild(label);\n",
              "      const progress = document.createElement('progress');\n",
              "      progress.max = size;\n",
              "      div.appendChild(progress);\n",
              "      document.body.appendChild(div);\n",
              "\n",
              "      const buffers = [];\n",
              "      let downloaded = 0;\n",
              "\n",
              "      const channel = await google.colab.kernel.comms.open(id);\n",
              "      // Send a message to notify the kernel that we're ready.\n",
              "      channel.send({})\n",
              "\n",
              "      for await (const message of channel.messages) {\n",
              "        // Send a message to notify the kernel that we're ready.\n",
              "        channel.send({})\n",
              "        if (message.buffers) {\n",
              "          for (const buffer of message.buffers) {\n",
              "            buffers.push(buffer);\n",
              "            downloaded += buffer.byteLength;\n",
              "            progress.value = downloaded;\n",
              "          }\n",
              "        }\n",
              "      }\n",
              "      const blob = new Blob(buffers, {type: 'application/binary'});\n",
              "      const a = document.createElement('a');\n",
              "      a.href = window.URL.createObjectURL(blob);\n",
              "      a.download = filename;\n",
              "      div.appendChild(a);\n",
              "      a.click();\n",
              "      div.remove();\n",
              "    }\n",
              "  "
            ],
            "text/plain": [
              "<IPython.core.display.Javascript object>"
            ]
          },
          "metadata": {}
        },
        {
          "output_type": "display_data",
          "data": {
            "application/javascript": [
              "download(\"download_b4258a76-195a-42f4-a54e-df073ef798c5\", \"plot_0.png\", 11638)"
            ],
            "text/plain": [
              "<IPython.core.display.Javascript object>"
            ]
          },
          "metadata": {}
        },
        {
          "output_type": "stream",
          "name": "stdout",
          "text": [
            "epoch 1 has total loss 5.46211191013139\n"
          ]
        },
        {
          "output_type": "display_data",
          "data": {
            "application/javascript": [
              "\n",
              "    async function download(id, filename, size) {\n",
              "      if (!google.colab.kernel.accessAllowed) {\n",
              "        return;\n",
              "      }\n",
              "      const div = document.createElement('div');\n",
              "      const label = document.createElement('label');\n",
              "      label.textContent = `Downloading \"${filename}\": `;\n",
              "      div.appendChild(label);\n",
              "      const progress = document.createElement('progress');\n",
              "      progress.max = size;\n",
              "      div.appendChild(progress);\n",
              "      document.body.appendChild(div);\n",
              "\n",
              "      const buffers = [];\n",
              "      let downloaded = 0;\n",
              "\n",
              "      const channel = await google.colab.kernel.comms.open(id);\n",
              "      // Send a message to notify the kernel that we're ready.\n",
              "      channel.send({})\n",
              "\n",
              "      for await (const message of channel.messages) {\n",
              "        // Send a message to notify the kernel that we're ready.\n",
              "        channel.send({})\n",
              "        if (message.buffers) {\n",
              "          for (const buffer of message.buffers) {\n",
              "            buffers.push(buffer);\n",
              "            downloaded += buffer.byteLength;\n",
              "            progress.value = downloaded;\n",
              "          }\n",
              "        }\n",
              "      }\n",
              "      const blob = new Blob(buffers, {type: 'application/binary'});\n",
              "      const a = document.createElement('a');\n",
              "      a.href = window.URL.createObjectURL(blob);\n",
              "      a.download = filename;\n",
              "      div.appendChild(a);\n",
              "      a.click();\n",
              "      div.remove();\n",
              "    }\n",
              "  "
            ],
            "text/plain": [
              "<IPython.core.display.Javascript object>"
            ]
          },
          "metadata": {}
        },
        {
          "output_type": "display_data",
          "data": {
            "application/javascript": [
              "download(\"download_b3d2da75-6fe7-4367-8154-78217f8c6eaa\", \"plot_1.png\", 11216)"
            ],
            "text/plain": [
              "<IPython.core.display.Javascript object>"
            ]
          },
          "metadata": {}
        },
        {
          "output_type": "stream",
          "name": "stdout",
          "text": [
            "epoch 2 has total loss 4.821047709918714\n"
          ]
        },
        {
          "output_type": "display_data",
          "data": {
            "application/javascript": [
              "\n",
              "    async function download(id, filename, size) {\n",
              "      if (!google.colab.kernel.accessAllowed) {\n",
              "        return;\n",
              "      }\n",
              "      const div = document.createElement('div');\n",
              "      const label = document.createElement('label');\n",
              "      label.textContent = `Downloading \"${filename}\": `;\n",
              "      div.appendChild(label);\n",
              "      const progress = document.createElement('progress');\n",
              "      progress.max = size;\n",
              "      div.appendChild(progress);\n",
              "      document.body.appendChild(div);\n",
              "\n",
              "      const buffers = [];\n",
              "      let downloaded = 0;\n",
              "\n",
              "      const channel = await google.colab.kernel.comms.open(id);\n",
              "      // Send a message to notify the kernel that we're ready.\n",
              "      channel.send({})\n",
              "\n",
              "      for await (const message of channel.messages) {\n",
              "        // Send a message to notify the kernel that we're ready.\n",
              "        channel.send({})\n",
              "        if (message.buffers) {\n",
              "          for (const buffer of message.buffers) {\n",
              "            buffers.push(buffer);\n",
              "            downloaded += buffer.byteLength;\n",
              "            progress.value = downloaded;\n",
              "          }\n",
              "        }\n",
              "      }\n",
              "      const blob = new Blob(buffers, {type: 'application/binary'});\n",
              "      const a = document.createElement('a');\n",
              "      a.href = window.URL.createObjectURL(blob);\n",
              "      a.download = filename;\n",
              "      div.appendChild(a);\n",
              "      a.click();\n",
              "      div.remove();\n",
              "    }\n",
              "  "
            ],
            "text/plain": [
              "<IPython.core.display.Javascript object>"
            ]
          },
          "metadata": {}
        },
        {
          "output_type": "display_data",
          "data": {
            "application/javascript": [
              "download(\"download_76d2f2df-4482-4c36-9331-a9c753a70d6d\", \"plot_2.png\", 10745)"
            ],
            "text/plain": [
              "<IPython.core.display.Javascript object>"
            ]
          },
          "metadata": {}
        },
        {
          "output_type": "stream",
          "name": "stdout",
          "text": [
            "epoch 3 has total loss 4.376407793867182\n"
          ]
        },
        {
          "output_type": "display_data",
          "data": {
            "application/javascript": [
              "\n",
              "    async function download(id, filename, size) {\n",
              "      if (!google.colab.kernel.accessAllowed) {\n",
              "        return;\n",
              "      }\n",
              "      const div = document.createElement('div');\n",
              "      const label = document.createElement('label');\n",
              "      label.textContent = `Downloading \"${filename}\": `;\n",
              "      div.appendChild(label);\n",
              "      const progress = document.createElement('progress');\n",
              "      progress.max = size;\n",
              "      div.appendChild(progress);\n",
              "      document.body.appendChild(div);\n",
              "\n",
              "      const buffers = [];\n",
              "      let downloaded = 0;\n",
              "\n",
              "      const channel = await google.colab.kernel.comms.open(id);\n",
              "      // Send a message to notify the kernel that we're ready.\n",
              "      channel.send({})\n",
              "\n",
              "      for await (const message of channel.messages) {\n",
              "        // Send a message to notify the kernel that we're ready.\n",
              "        channel.send({})\n",
              "        if (message.buffers) {\n",
              "          for (const buffer of message.buffers) {\n",
              "            buffers.push(buffer);\n",
              "            downloaded += buffer.byteLength;\n",
              "            progress.value = downloaded;\n",
              "          }\n",
              "        }\n",
              "      }\n",
              "      const blob = new Blob(buffers, {type: 'application/binary'});\n",
              "      const a = document.createElement('a');\n",
              "      a.href = window.URL.createObjectURL(blob);\n",
              "      a.download = filename;\n",
              "      div.appendChild(a);\n",
              "      a.click();\n",
              "      div.remove();\n",
              "    }\n",
              "  "
            ],
            "text/plain": [
              "<IPython.core.display.Javascript object>"
            ]
          },
          "metadata": {}
        },
        {
          "output_type": "display_data",
          "data": {
            "application/javascript": [
              "download(\"download_645db453-219b-4e5b-9a6d-8967b1e3f03a\", \"plot_3.png\", 10881)"
            ],
            "text/plain": [
              "<IPython.core.display.Javascript object>"
            ]
          },
          "metadata": {}
        },
        {
          "output_type": "stream",
          "name": "stdout",
          "text": [
            "epoch 4 has total loss 4.044631318017442\n"
          ]
        },
        {
          "output_type": "display_data",
          "data": {
            "application/javascript": [
              "\n",
              "    async function download(id, filename, size) {\n",
              "      if (!google.colab.kernel.accessAllowed) {\n",
              "        return;\n",
              "      }\n",
              "      const div = document.createElement('div');\n",
              "      const label = document.createElement('label');\n",
              "      label.textContent = `Downloading \"${filename}\": `;\n",
              "      div.appendChild(label);\n",
              "      const progress = document.createElement('progress');\n",
              "      progress.max = size;\n",
              "      div.appendChild(progress);\n",
              "      document.body.appendChild(div);\n",
              "\n",
              "      const buffers = [];\n",
              "      let downloaded = 0;\n",
              "\n",
              "      const channel = await google.colab.kernel.comms.open(id);\n",
              "      // Send a message to notify the kernel that we're ready.\n",
              "      channel.send({})\n",
              "\n",
              "      for await (const message of channel.messages) {\n",
              "        // Send a message to notify the kernel that we're ready.\n",
              "        channel.send({})\n",
              "        if (message.buffers) {\n",
              "          for (const buffer of message.buffers) {\n",
              "            buffers.push(buffer);\n",
              "            downloaded += buffer.byteLength;\n",
              "            progress.value = downloaded;\n",
              "          }\n",
              "        }\n",
              "      }\n",
              "      const blob = new Blob(buffers, {type: 'application/binary'});\n",
              "      const a = document.createElement('a');\n",
              "      a.href = window.URL.createObjectURL(blob);\n",
              "      a.download = filename;\n",
              "      div.appendChild(a);\n",
              "      a.click();\n",
              "      div.remove();\n",
              "    }\n",
              "  "
            ],
            "text/plain": [
              "<IPython.core.display.Javascript object>"
            ]
          },
          "metadata": {}
        },
        {
          "output_type": "display_data",
          "data": {
            "application/javascript": [
              "download(\"download_838a1b8d-7453-4056-9f53-2f37928e63b8\", \"plot_4.png\", 10682)"
            ],
            "text/plain": [
              "<IPython.core.display.Javascript object>"
            ]
          },
          "metadata": {}
        },
        {
          "output_type": "stream",
          "name": "stdout",
          "text": [
            "epoch 5 has total loss 3.785495957355281\n"
          ]
        },
        {
          "output_type": "display_data",
          "data": {
            "application/javascript": [
              "\n",
              "    async function download(id, filename, size) {\n",
              "      if (!google.colab.kernel.accessAllowed) {\n",
              "        return;\n",
              "      }\n",
              "      const div = document.createElement('div');\n",
              "      const label = document.createElement('label');\n",
              "      label.textContent = `Downloading \"${filename}\": `;\n",
              "      div.appendChild(label);\n",
              "      const progress = document.createElement('progress');\n",
              "      progress.max = size;\n",
              "      div.appendChild(progress);\n",
              "      document.body.appendChild(div);\n",
              "\n",
              "      const buffers = [];\n",
              "      let downloaded = 0;\n",
              "\n",
              "      const channel = await google.colab.kernel.comms.open(id);\n",
              "      // Send a message to notify the kernel that we're ready.\n",
              "      channel.send({})\n",
              "\n",
              "      for await (const message of channel.messages) {\n",
              "        // Send a message to notify the kernel that we're ready.\n",
              "        channel.send({})\n",
              "        if (message.buffers) {\n",
              "          for (const buffer of message.buffers) {\n",
              "            buffers.push(buffer);\n",
              "            downloaded += buffer.byteLength;\n",
              "            progress.value = downloaded;\n",
              "          }\n",
              "        }\n",
              "      }\n",
              "      const blob = new Blob(buffers, {type: 'application/binary'});\n",
              "      const a = document.createElement('a');\n",
              "      a.href = window.URL.createObjectURL(blob);\n",
              "      a.download = filename;\n",
              "      div.appendChild(a);\n",
              "      a.click();\n",
              "      div.remove();\n",
              "    }\n",
              "  "
            ],
            "text/plain": [
              "<IPython.core.display.Javascript object>"
            ]
          },
          "metadata": {}
        },
        {
          "output_type": "display_data",
          "data": {
            "application/javascript": [
              "download(\"download_011810ce-ed45-40ca-947c-b30e8ceebcd2\", \"plot_5.png\", 10498)"
            ],
            "text/plain": [
              "<IPython.core.display.Javascript object>"
            ]
          },
          "metadata": {}
        },
        {
          "output_type": "stream",
          "name": "stdout",
          "text": [
            "epoch 6 has total loss 3.5764951960506712\n"
          ]
        },
        {
          "output_type": "display_data",
          "data": {
            "application/javascript": [
              "\n",
              "    async function download(id, filename, size) {\n",
              "      if (!google.colab.kernel.accessAllowed) {\n",
              "        return;\n",
              "      }\n",
              "      const div = document.createElement('div');\n",
              "      const label = document.createElement('label');\n",
              "      label.textContent = `Downloading \"${filename}\": `;\n",
              "      div.appendChild(label);\n",
              "      const progress = document.createElement('progress');\n",
              "      progress.max = size;\n",
              "      div.appendChild(progress);\n",
              "      document.body.appendChild(div);\n",
              "\n",
              "      const buffers = [];\n",
              "      let downloaded = 0;\n",
              "\n",
              "      const channel = await google.colab.kernel.comms.open(id);\n",
              "      // Send a message to notify the kernel that we're ready.\n",
              "      channel.send({})\n",
              "\n",
              "      for await (const message of channel.messages) {\n",
              "        // Send a message to notify the kernel that we're ready.\n",
              "        channel.send({})\n",
              "        if (message.buffers) {\n",
              "          for (const buffer of message.buffers) {\n",
              "            buffers.push(buffer);\n",
              "            downloaded += buffer.byteLength;\n",
              "            progress.value = downloaded;\n",
              "          }\n",
              "        }\n",
              "      }\n",
              "      const blob = new Blob(buffers, {type: 'application/binary'});\n",
              "      const a = document.createElement('a');\n",
              "      a.href = window.URL.createObjectURL(blob);\n",
              "      a.download = filename;\n",
              "      div.appendChild(a);\n",
              "      a.click();\n",
              "      div.remove();\n",
              "    }\n",
              "  "
            ],
            "text/plain": [
              "<IPython.core.display.Javascript object>"
            ]
          },
          "metadata": {}
        },
        {
          "output_type": "display_data",
          "data": {
            "application/javascript": [
              "download(\"download_8c4fc9e4-6ac6-42b1-8793-cecd3b2f09d7\", \"plot_6.png\", 10216)"
            ],
            "text/plain": [
              "<IPython.core.display.Javascript object>"
            ]
          },
          "metadata": {}
        },
        {
          "output_type": "stream",
          "name": "stdout",
          "text": [
            "epoch 7 has total loss 3.4037356044647034\n"
          ]
        },
        {
          "output_type": "display_data",
          "data": {
            "application/javascript": [
              "\n",
              "    async function download(id, filename, size) {\n",
              "      if (!google.colab.kernel.accessAllowed) {\n",
              "        return;\n",
              "      }\n",
              "      const div = document.createElement('div');\n",
              "      const label = document.createElement('label');\n",
              "      label.textContent = `Downloading \"${filename}\": `;\n",
              "      div.appendChild(label);\n",
              "      const progress = document.createElement('progress');\n",
              "      progress.max = size;\n",
              "      div.appendChild(progress);\n",
              "      document.body.appendChild(div);\n",
              "\n",
              "      const buffers = [];\n",
              "      let downloaded = 0;\n",
              "\n",
              "      const channel = await google.colab.kernel.comms.open(id);\n",
              "      // Send a message to notify the kernel that we're ready.\n",
              "      channel.send({})\n",
              "\n",
              "      for await (const message of channel.messages) {\n",
              "        // Send a message to notify the kernel that we're ready.\n",
              "        channel.send({})\n",
              "        if (message.buffers) {\n",
              "          for (const buffer of message.buffers) {\n",
              "            buffers.push(buffer);\n",
              "            downloaded += buffer.byteLength;\n",
              "            progress.value = downloaded;\n",
              "          }\n",
              "        }\n",
              "      }\n",
              "      const blob = new Blob(buffers, {type: 'application/binary'});\n",
              "      const a = document.createElement('a');\n",
              "      a.href = window.URL.createObjectURL(blob);\n",
              "      a.download = filename;\n",
              "      div.appendChild(a);\n",
              "      a.click();\n",
              "      div.remove();\n",
              "    }\n",
              "  "
            ],
            "text/plain": [
              "<IPython.core.display.Javascript object>"
            ]
          },
          "metadata": {}
        },
        {
          "output_type": "display_data",
          "data": {
            "application/javascript": [
              "download(\"download_c38bf435-f181-4815-8a3c-23c19ba69680\", \"plot_7.png\", 10110)"
            ],
            "text/plain": [
              "<IPython.core.display.Javascript object>"
            ]
          },
          "metadata": {}
        },
        {
          "output_type": "stream",
          "name": "stdout",
          "text": [
            "epoch 8 has total loss 3.2580744775443593\n"
          ]
        },
        {
          "output_type": "display_data",
          "data": {
            "application/javascript": [
              "\n",
              "    async function download(id, filename, size) {\n",
              "      if (!google.colab.kernel.accessAllowed) {\n",
              "        return;\n",
              "      }\n",
              "      const div = document.createElement('div');\n",
              "      const label = document.createElement('label');\n",
              "      label.textContent = `Downloading \"${filename}\": `;\n",
              "      div.appendChild(label);\n",
              "      const progress = document.createElement('progress');\n",
              "      progress.max = size;\n",
              "      div.appendChild(progress);\n",
              "      document.body.appendChild(div);\n",
              "\n",
              "      const buffers = [];\n",
              "      let downloaded = 0;\n",
              "\n",
              "      const channel = await google.colab.kernel.comms.open(id);\n",
              "      // Send a message to notify the kernel that we're ready.\n",
              "      channel.send({})\n",
              "\n",
              "      for await (const message of channel.messages) {\n",
              "        // Send a message to notify the kernel that we're ready.\n",
              "        channel.send({})\n",
              "        if (message.buffers) {\n",
              "          for (const buffer of message.buffers) {\n",
              "            buffers.push(buffer);\n",
              "            downloaded += buffer.byteLength;\n",
              "            progress.value = downloaded;\n",
              "          }\n",
              "        }\n",
              "      }\n",
              "      const blob = new Blob(buffers, {type: 'application/binary'});\n",
              "      const a = document.createElement('a');\n",
              "      a.href = window.URL.createObjectURL(blob);\n",
              "      a.download = filename;\n",
              "      div.appendChild(a);\n",
              "      a.click();\n",
              "      div.remove();\n",
              "    }\n",
              "  "
            ],
            "text/plain": [
              "<IPython.core.display.Javascript object>"
            ]
          },
          "metadata": {}
        },
        {
          "output_type": "display_data",
          "data": {
            "application/javascript": [
              "download(\"download_b0d1beb1-feed-4a4e-95fd-8a2d83d5fd56\", \"plot_8.png\", 10198)"
            ],
            "text/plain": [
              "<IPython.core.display.Javascript object>"
            ]
          },
          "metadata": {}
        },
        {
          "output_type": "stream",
          "name": "stdout",
          "text": [
            "epoch 9 has total loss 3.1332214359416266\n"
          ]
        },
        {
          "output_type": "display_data",
          "data": {
            "application/javascript": [
              "\n",
              "    async function download(id, filename, size) {\n",
              "      if (!google.colab.kernel.accessAllowed) {\n",
              "        return;\n",
              "      }\n",
              "      const div = document.createElement('div');\n",
              "      const label = document.createElement('label');\n",
              "      label.textContent = `Downloading \"${filename}\": `;\n",
              "      div.appendChild(label);\n",
              "      const progress = document.createElement('progress');\n",
              "      progress.max = size;\n",
              "      div.appendChild(progress);\n",
              "      document.body.appendChild(div);\n",
              "\n",
              "      const buffers = [];\n",
              "      let downloaded = 0;\n",
              "\n",
              "      const channel = await google.colab.kernel.comms.open(id);\n",
              "      // Send a message to notify the kernel that we're ready.\n",
              "      channel.send({})\n",
              "\n",
              "      for await (const message of channel.messages) {\n",
              "        // Send a message to notify the kernel that we're ready.\n",
              "        channel.send({})\n",
              "        if (message.buffers) {\n",
              "          for (const buffer of message.buffers) {\n",
              "            buffers.push(buffer);\n",
              "            downloaded += buffer.byteLength;\n",
              "            progress.value = downloaded;\n",
              "          }\n",
              "        }\n",
              "      }\n",
              "      const blob = new Blob(buffers, {type: 'application/binary'});\n",
              "      const a = document.createElement('a');\n",
              "      a.href = window.URL.createObjectURL(blob);\n",
              "      a.download = filename;\n",
              "      div.appendChild(a);\n",
              "      a.click();\n",
              "      div.remove();\n",
              "    }\n",
              "  "
            ],
            "text/plain": [
              "<IPython.core.display.Javascript object>"
            ]
          },
          "metadata": {}
        },
        {
          "output_type": "display_data",
          "data": {
            "application/javascript": [
              "download(\"download_df21dc8c-bf25-4acd-88e2-566f7ae35af1\", \"plot_9.png\", 10162)"
            ],
            "text/plain": [
              "<IPython.core.display.Javascript object>"
            ]
          },
          "metadata": {}
        },
        {
          "output_type": "stream",
          "name": "stdout",
          "text": [
            "epoch 10 has total loss 3.0247010050826195\n"
          ]
        },
        {
          "output_type": "display_data",
          "data": {
            "application/javascript": [
              "\n",
              "    async function download(id, filename, size) {\n",
              "      if (!google.colab.kernel.accessAllowed) {\n",
              "        return;\n",
              "      }\n",
              "      const div = document.createElement('div');\n",
              "      const label = document.createElement('label');\n",
              "      label.textContent = `Downloading \"${filename}\": `;\n",
              "      div.appendChild(label);\n",
              "      const progress = document.createElement('progress');\n",
              "      progress.max = size;\n",
              "      div.appendChild(progress);\n",
              "      document.body.appendChild(div);\n",
              "\n",
              "      const buffers = [];\n",
              "      let downloaded = 0;\n",
              "\n",
              "      const channel = await google.colab.kernel.comms.open(id);\n",
              "      // Send a message to notify the kernel that we're ready.\n",
              "      channel.send({})\n",
              "\n",
              "      for await (const message of channel.messages) {\n",
              "        // Send a message to notify the kernel that we're ready.\n",
              "        channel.send({})\n",
              "        if (message.buffers) {\n",
              "          for (const buffer of message.buffers) {\n",
              "            buffers.push(buffer);\n",
              "            downloaded += buffer.byteLength;\n",
              "            progress.value = downloaded;\n",
              "          }\n",
              "        }\n",
              "      }\n",
              "      const blob = new Blob(buffers, {type: 'application/binary'});\n",
              "      const a = document.createElement('a');\n",
              "      a.href = window.URL.createObjectURL(blob);\n",
              "      a.download = filename;\n",
              "      div.appendChild(a);\n",
              "      a.click();\n",
              "      div.remove();\n",
              "    }\n",
              "  "
            ],
            "text/plain": [
              "<IPython.core.display.Javascript object>"
            ]
          },
          "metadata": {}
        },
        {
          "output_type": "display_data",
          "data": {
            "application/javascript": [
              "download(\"download_63661f45-7591-40ca-8b45-21235b93a7e6\", \"plot_10.png\", 10179)"
            ],
            "text/plain": [
              "<IPython.core.display.Javascript object>"
            ]
          },
          "metadata": {}
        },
        {
          "output_type": "stream",
          "name": "stdout",
          "text": [
            "\n",
            "Final weights:\n",
            "[0.5960284097028588, -0.13469258109084148] -0.010512924479684558\n",
            "Misclassify [1, 5] 1 with activation 0.47802730360403245\n",
            "Our model predicted 9 out of 10 correctly for 90.0 % accuracy\n"
          ]
        },
        {
          "output_type": "display_data",
          "data": {
            "image/png": "[encoded data removed]",
            "text/plain": [
              "<Figure size 432x288 with 1 Axes>"
            ]
          },
          "metadata": {
            "needs_background": "light"
          }
        }
      ]
    },
    {
      "cell_type": "code",
      "metadata": {
        "colab": {
          "base_uri": "https://localhost:8080/",
          "height": 525
        },
        "id": "S5CkWk9yCtwL",
        "outputId": "3f6c5123-f868-41ef-a89b-d7e48b24f9f1"
      },
      "source": [
        "# In general, it's not so good to initialize all the weights to zero.\n",
        "# Here, we'll initialize to some small non-zero values, and train\n",
        "# for more epochs.\n",
        "w_0 = 0.1\n",
        "w = [0.1, 0.1]\n",
        "\n",
        "# In practice, weights are typically initially randomized, e.g.,\n",
        "# to Normal (Gaussian) values, which works well when the input\n",
        "# data has been normalized (unlike our data). You can uncomment\n",
        "# and try these too.\n",
        "## w_0 = random.gauss(0,1)\n",
        "## w = [random.gauss(0,1) for i in range(2)]\n",
        "\n",
        "learning_rate = 0.01\n",
        "epochs = 101\n",
        "\n",
        "w, w_0 = train_model_NLL_loss(single_neuron_classification_model, w, w_0,\n",
        "                              input_data, labels,\n",
        "                              learning_rate, epochs)\n",
        "print(\"\\nFinal weights:\")\n",
        "print(w, w_0)\n",
        "evaluate_classification_accuracy(single_neuron_classification_model, w, w_0, input_data, labels)\n",
        "plot_dataset_2D(input_data, labels)\n",
        "plot_decision_boundary_2D(w, w_0)"
      ],
      "execution_count": null,
      "outputs": [
        {
          "output_type": "stream",
          "name": "stdout",
          "text": [
            "epoch 0 has total loss 6.223923692215003\n"
          ]
        },
        {
          "output_type": "display_data",
          "data": {
            "application/javascript": [
              "\n",
              "    async function download(id, filename, size) {\n",
              "      if (!google.colab.kernel.accessAllowed) {\n",
              "        return;\n",
              "      }\n",
              "      const div = document.createElement('div');\n",
              "      const label = document.createElement('label');\n",
              "      label.textContent = `Downloading \"${filename}\": `;\n",
              "      div.appendChild(label);\n",
              "      const progress = document.createElement('progress');\n",
              "      progress.max = size;\n",
              "      div.appendChild(progress);\n",
              "      document.body.appendChild(div);\n",
              "\n",
              "      const buffers = [];\n",
              "      let downloaded = 0;\n",
              "\n",
              "      const channel = await google.colab.kernel.comms.open(id);\n",
              "      // Send a message to notify the kernel that we're ready.\n",
              "      channel.send({})\n",
              "\n",
              "      for await (const message of channel.messages) {\n",
              "        // Send a message to notify the kernel that we're ready.\n",
              "        channel.send({})\n",
              "        if (message.buffers) {\n",
              "          for (const buffer of message.buffers) {\n",
              "            buffers.push(buffer);\n",
              "            downloaded += buffer.byteLength;\n",
              "            progress.value = downloaded;\n",
              "          }\n",
              "        }\n",
              "      }\n",
              "      const blob = new Blob(buffers, {type: 'application/binary'});\n",
              "      const a = document.createElement('a');\n",
              "      a.href = window.URL.createObjectURL(blob);\n",
              "      a.download = filename;\n",
              "      div.appendChild(a);\n",
              "      a.click();\n",
              "      div.remove();\n",
              "    }\n",
              "  "
            ],
            "text/plain": [
              "<IPython.core.display.Javascript object>"
            ]
          },
          "metadata": {}
        },
        {
          "output_type": "display_data",
          "data": {
            "application/javascript": [
              "download(\"download_51913737-2830-4321-85d3-cf260baecaf0\", \"plot_0.png\", 8242)"
            ],
            "text/plain": [
              "<IPython.core.display.Javascript object>"
            ]
          },
          "metadata": {}
        },
        {
          "output_type": "stream",
          "name": "stdout",
          "text": [
            "epoch 10 has total loss 2.9287154378367712\n"
          ]
        },
        {
          "output_type": "display_data",
          "data": {
            "application/javascript": [
              "\n",
              "    async function download(id, filename, size) {\n",
              "      if (!google.colab.kernel.accessAllowed) {\n",
              "        return;\n",
              "      }\n",
              "      const div = document.createElement('div');\n",
              "      const label = document.createElement('label');\n",
              "      label.textContent = `Downloading \"${filename}\": `;\n",
              "      div.appendChild(label);\n",
              "      const progress = document.createElement('progress');\n",
              "      progress.max = size;\n",
              "      div.appendChild(progress);\n",
              "      document.body.appendChild(div);\n",
              "\n",
              "      const buffers = [];\n",
              "      let downloaded = 0;\n",
              "\n",
              "      const channel = await google.colab.kernel.comms.open(id);\n",
              "      // Send a message to notify the kernel that we're ready.\n",
              "      channel.send({})\n",
              "\n",
              "      for await (const message of channel.messages) {\n",
              "        // Send a message to notify the kernel that we're ready.\n",
              "        channel.send({})\n",
              "        if (message.buffers) {\n",
              "          for (const buffer of message.buffers) {\n",
              "            buffers.push(buffer);\n",
              "            downloaded += buffer.byteLength;\n",
              "            progress.value = downloaded;\n",
              "          }\n",
              "        }\n",
              "      }\n",
              "      const blob = new Blob(buffers, {type: 'application/binary'});\n",
              "      const a = document.createElement('a');\n",
              "      a.href = window.URL.createObjectURL(blob);\n",
              "      a.download = filename;\n",
              "      div.appendChild(a);\n",
              "      a.click();\n",
              "      div.remove();\n",
              "    }\n",
              "  "
            ],
            "text/plain": [
              "<IPython.core.display.Javascript object>"
            ]
          },
          "metadata": {}
        },
        {
          "output_type": "display_data",
          "data": {
            "application/javascript": [
              "download(\"download_b27c2ea1-ffc1-481b-b47f-719abcc60b09\", \"plot_10.png\", 9767)"
            ],
            "text/plain": [
              "<IPython.core.display.Javascript object>"
            ]
          },
          "metadata": {}
        },
        {
          "output_type": "stream",
          "name": "stdout",
          "text": [
            "epoch 20 has total loss 2.3584449039881488\n"
          ]
        },
        {
          "output_type": "display_data",
          "data": {
            "application/javascript": [
              "\n",
              "    async function download(id, filename, size) {\n",
              "      if (!google.colab.kernel.accessAllowed) {\n",
              "        return;\n",
              "      }\n",
              "      const div = document.createElement('div');\n",
              "      const label = document.createElement('label');\n",
              "      label.textContent = `Downloading \"${filename}\": `;\n",
              "      div.appendChild(label);\n",
              "      const progress = document.createElement('progress');\n",
              "      progress.max = size;\n",
              "      div.appendChild(progress);\n",
              "      document.body.appendChild(div);\n",
              "\n",
              "      const buffers = [];\n",
              "      let downloaded = 0;\n",
              "\n",
              "      const channel = await google.colab.kernel.comms.open(id);\n",
              "      // Send a message to notify the kernel that we're ready.\n",
              "      channel.send({})\n",
              "\n",
              "      for await (const message of channel.messages) {\n",
              "        // Send a message to notify the kernel that we're ready.\n",
              "        channel.send({})\n",
              "        if (message.buffers) {\n",
              "          for (const buffer of message.buffers) {\n",
              "            buffers.push(buffer);\n",
              "            downloaded += buffer.byteLength;\n",
              "            progress.value = downloaded;\n",
              "          }\n",
              "        }\n",
              "      }\n",
              "      const blob = new Blob(buffers, {type: 'application/binary'});\n",
              "      const a = document.createElement('a');\n",
              "      a.href = window.URL.createObjectURL(blob);\n",
              "      a.download = filename;\n",
              "      div.appendChild(a);\n",
              "      a.click();\n",
              "      div.remove();\n",
              "    }\n",
              "  "
            ],
            "text/plain": [
              "<IPython.core.display.Javascript object>"
            ]
          },
          "metadata": {}
        },
        {
          "output_type": "display_data",
          "data": {
            "application/javascript": [
              "download(\"download_67ac8081-cde5-4bb5-96ea-b364916db85b\", \"plot_20.png\", 9633)"
            ],
            "text/plain": [
              "<IPython.core.display.Javascript object>"
            ]
          },
          "metadata": {}
        },
        {
          "output_type": "stream",
          "name": "stdout",
          "text": [
            "epoch 30 has total loss 2.0636076120006903\n"
          ]
        },
        {
          "output_type": "display_data",
          "data": {
            "application/javascript": [
              "\n",
              "    async function download(id, filename, size) {\n",
              "      if (!google.colab.kernel.accessAllowed) {\n",
              "        return;\n",
              "      }\n",
              "      const div = document.createElement('div');\n",
              "      const label = document.createElement('label');\n",
              "      label.textContent = `Downloading \"${filename}\": `;\n",
              "      div.appendChild(label);\n",
              "      const progress = document.createElement('progress');\n",
              "      progress.max = size;\n",
              "      div.appendChild(progress);\n",
              "      document.body.appendChild(div);\n",
              "\n",
              "      const buffers = [];\n",
              "      let downloaded = 0;\n",
              "\n",
              "      const channel = await google.colab.kernel.comms.open(id);\n",
              "      // Send a message to notify the kernel that we're ready.\n",
              "      channel.send({})\n",
              "\n",
              "      for await (const message of channel.messages) {\n",
              "        // Send a message to notify the kernel that we're ready.\n",
              "        channel.send({})\n",
              "        if (message.buffers) {\n",
              "          for (const buffer of message.buffers) {\n",
              "            buffers.push(buffer);\n",
              "            downloaded += buffer.byteLength;\n",
              "            progress.value = downloaded;\n",
              "          }\n",
              "        }\n",
              "      }\n",
              "      const blob = new Blob(buffers, {type: 'application/binary'});\n",
              "      const a = document.createElement('a');\n",
              "      a.href = window.URL.createObjectURL(blob);\n",
              "      a.download = filename;\n",
              "      div.appendChild(a);\n",
              "      a.click();\n",
              "      div.remove();\n",
              "    }\n",
              "  "
            ],
            "text/plain": [
              "<IPython.core.display.Javascript object>"
            ]
          },
          "metadata": {}
        },
        {
          "output_type": "display_data",
          "data": {
            "application/javascript": [
              "download(\"download_71a40905-121f-451c-96f0-72ad3819071b\", \"plot_30.png\", 9369)"
            ],
            "text/plain": [
              "<IPython.core.display.Javascript object>"
            ]
          },
          "metadata": {}
        },
        {
          "output_type": "stream",
          "name": "stdout",
          "text": [
            "epoch 40 has total loss 1.8696299804962355\n"
          ]
        },
        {
          "output_type": "display_data",
          "data": {
            "application/javascript": [
              "\n",
              "    async function download(id, filename, size) {\n",
              "      if (!google.colab.kernel.accessAllowed) {\n",
              "        return;\n",
              "      }\n",
              "      const div = document.createElement('div');\n",
              "      const label = document.createElement('label');\n",
              "      label.textContent = `Downloading \"${filename}\": `;\n",
              "      div.appendChild(label);\n",
              "      const progress = document.createElement('progress');\n",
              "      progress.max = size;\n",
              "      div.appendChild(progress);\n",
              "      document.body.appendChild(div);\n",
              "\n",
              "      const buffers = [];\n",
              "      let downloaded = 0;\n",
              "\n",
              "      const channel = await google.colab.kernel.comms.open(id);\n",
              "      // Send a message to notify the kernel that we're ready.\n",
              "      channel.send({})\n",
              "\n",
              "      for await (const message of channel.messages) {\n",
              "        // Send a message to notify the kernel that we're ready.\n",
              "        channel.send({})\n",
              "        if (message.buffers) {\n",
              "          for (const buffer of message.buffers) {\n",
              "            buffers.push(buffer);\n",
              "            downloaded += buffer.byteLength;\n",
              "            progress.value = downloaded;\n",
              "          }\n",
              "        }\n",
              "      }\n",
              "      const blob = new Blob(buffers, {type: 'application/binary'});\n",
              "      const a = document.createElement('a');\n",
              "      a.href = window.URL.createObjectURL(blob);\n",
              "      a.download = filename;\n",
              "      div.appendChild(a);\n",
              "      a.click();\n",
              "      div.remove();\n",
              "    }\n",
              "  "
            ],
            "text/plain": [
              "<IPython.core.display.Javascript object>"
            ]
          },
          "metadata": {}
        },
        {
          "output_type": "display_data",
          "data": {
            "application/javascript": [
              "download(\"download_55e91dec-a07d-4f0b-982f-ab51cbe09220\", \"plot_40.png\", 9135)"
            ],
            "text/plain": [
              "<IPython.core.display.Javascript object>"
            ]
          },
          "metadata": {}
        },
        {
          "output_type": "stream",
          "name": "stdout",
          "text": [
            "epoch 50 has total loss 1.7267167165811537\n"
          ]
        },
        {
          "output_type": "display_data",
          "data": {
            "application/javascript": [
              "\n",
              "    async function download(id, filename, size) {\n",
              "      if (!google.colab.kernel.accessAllowed) {\n",
              "        return;\n",
              "      }\n",
              "      const div = document.createElement('div');\n",
              "      const label = document.createElement('label');\n",
              "      label.textContent = `Downloading \"${filename}\": `;\n",
              "      div.appendChild(label);\n",
              "      const progress = document.createElement('progress');\n",
              "      progress.max = size;\n",
              "      div.appendChild(progress);\n",
              "      document.body.appendChild(div);\n",
              "\n",
              "      const buffers = [];\n",
              "      let downloaded = 0;\n",
              "\n",
              "      const channel = await google.colab.kernel.comms.open(id);\n",
              "      // Send a message to notify the kernel that we're ready.\n",
              "      channel.send({})\n",
              "\n",
              "      for await (const message of channel.messages) {\n",
              "        // Send a message to notify the kernel that we're ready.\n",
              "        channel.send({})\n",
              "        if (message.buffers) {\n",
              "          for (const buffer of message.buffers) {\n",
              "            buffers.push(buffer);\n",
              "            downloaded += buffer.byteLength;\n",
              "            progress.value = downloaded;\n",
              "          }\n",
              "        }\n",
              "      }\n",
              "      const blob = new Blob(buffers, {type: 'application/binary'});\n",
              "      const a = document.createElement('a');\n",
              "      a.href = window.URL.createObjectURL(blob);\n",
              "      a.download = filename;\n",
              "      div.appendChild(a);\n",
              "      a.click();\n",
              "      div.remove();\n",
              "    }\n",
              "  "
            ],
            "text/plain": [
              "<IPython.core.display.Javascript object>"
            ]
          },
          "metadata": {}
        },
        {
          "output_type": "display_data",
          "data": {
            "application/javascript": [
              "download(\"download_2eaf608b-e2af-4eca-97ae-d474db4a9a9a\", \"plot_50.png\", 9014)"
            ],
            "text/plain": [
              "<IPython.core.display.Javascript object>"
            ]
          },
          "metadata": {}
        },
        {
          "output_type": "stream",
          "name": "stdout",
          "text": [
            "epoch 60 has total loss 1.6144108218404705\n"
          ]
        },
        {
          "output_type": "display_data",
          "data": {
            "application/javascript": [
              "\n",
              "    async function download(id, filename, size) {\n",
              "      if (!google.colab.kernel.accessAllowed) {\n",
              "        return;\n",
              "      }\n",
              "      const div = document.createElement('div');\n",
              "      const label = document.createElement('label');\n",
              "      label.textContent = `Downloading \"${filename}\": `;\n",
              "      div.appendChild(label);\n",
              "      const progress = document.createElement('progress');\n",
              "      progress.max = size;\n",
              "      div.appendChild(progress);\n",
              "      document.body.appendChild(div);\n",
              "\n",
              "      const buffers = [];\n",
              "      let downloaded = 0;\n",
              "\n",
              "      const channel = await google.colab.kernel.comms.open(id);\n",
              "      // Send a message to notify the kernel that we're ready.\n",
              "      channel.send({})\n",
              "\n",
              "      for await (const message of channel.messages) {\n",
              "        // Send a message to notify the kernel that we're ready.\n",
              "        channel.send({})\n",
              "        if (message.buffers) {\n",
              "          for (const buffer of message.buffers) {\n",
              "            buffers.push(buffer);\n",
              "            downloaded += buffer.byteLength;\n",
              "            progress.value = downloaded;\n",
              "          }\n",
              "        }\n",
              "      }\n",
              "      const blob = new Blob(buffers, {type: 'application/binary'});\n",
              "      const a = document.createElement('a');\n",
              "      a.href = window.URL.createObjectURL(blob);\n",
              "      a.download = filename;\n",
              "      div.appendChild(a);\n",
              "      a.click();\n",
              "      div.remove();\n",
              "    }\n",
              "  "
            ],
            "text/plain": [
              "<IPython.core.display.Javascript object>"
            ]
          },
          "metadata": {}
        },
        {
          "output_type": "display_data",
          "data": {
            "application/javascript": [
              "download(\"download_41e0066a-3fbb-49cf-a364-39a39303a184\", \"plot_60.png\", 8896)"
            ],
            "text/plain": [
              "<IPython.core.display.Javascript object>"
            ]
          },
          "metadata": {}
        },
        {
          "output_type": "stream",
          "name": "stdout",
          "text": [
            "epoch 70 has total loss 1.5224295144979199\n"
          ]
        },
        {
          "output_type": "display_data",
          "data": {
            "application/javascript": [
              "\n",
              "    async function download(id, filename, size) {\n",
              "      if (!google.colab.kernel.accessAllowed) {\n",
              "        return;\n",
              "      }\n",
              "      const div = document.createElement('div');\n",
              "      const label = document.createElement('label');\n",
              "      label.textContent = `Downloading \"${filename}\": `;\n",
              "      div.appendChild(label);\n",
              "      const progress = document.createElement('progress');\n",
              "      progress.max = size;\n",
              "      div.appendChild(progress);\n",
              "      document.body.appendChild(div);\n",
              "\n",
              "      const buffers = [];\n",
              "      let downloaded = 0;\n",
              "\n",
              "      const channel = await google.colab.kernel.comms.open(id);\n",
              "      // Send a message to notify the kernel that we're ready.\n",
              "      channel.send({})\n",
              "\n",
              "      for await (const message of channel.messages) {\n",
              "        // Send a message to notify the kernel that we're ready.\n",
              "        channel.send({})\n",
              "        if (message.buffers) {\n",
              "          for (const buffer of message.buffers) {\n",
              "            buffers.push(buffer);\n",
              "            downloaded += buffer.byteLength;\n",
              "            progress.value = downloaded;\n",
              "          }\n",
              "        }\n",
              "      }\n",
              "      const blob = new Blob(buffers, {type: 'application/binary'});\n",
              "      const a = document.createElement('a');\n",
              "      a.href = window.URL.createObjectURL(blob);\n",
              "      a.download = filename;\n",
              "      div.appendChild(a);\n",
              "      a.click();\n",
              "      div.remove();\n",
              "    }\n",
              "  "
            ],
            "text/plain": [
              "<IPython.core.display.Javascript object>"
            ]
          },
          "metadata": {}
        },
        {
          "output_type": "display_data",
          "data": {
            "application/javascript": [
              "download(\"download_1ada3e95-ec5b-4549-b399-39b8d5f4c64a\", \"plot_70.png\", 8714)"
            ],
            "text/plain": [
              "<IPython.core.display.Javascript object>"
            ]
          },
          "metadata": {}
        },
        {
          "output_type": "stream",
          "name": "stdout",
          "text": [
            "epoch 80 has total loss 1.4448950765018669\n"
          ]
        },
        {
          "output_type": "display_data",
          "data": {
            "application/javascript": [
              "\n",
              "    async function download(id, filename, size) {\n",
              "      if (!google.colab.kernel.accessAllowed) {\n",
              "        return;\n",
              "      }\n",
              "      const div = document.createElement('div');\n",
              "      const label = document.createElement('label');\n",
              "      label.textContent = `Downloading \"${filename}\": `;\n",
              "      div.appendChild(label);\n",
              "      const progress = document.createElement('progress');\n",
              "      progress.max = size;\n",
              "      div.appendChild(progress);\n",
              "      document.body.appendChild(div);\n",
              "\n",
              "      const buffers = [];\n",
              "      let downloaded = 0;\n",
              "\n",
              "      const channel = await google.colab.kernel.comms.open(id);\n",
              "      // Send a message to notify the kernel that we're ready.\n",
              "      channel.send({})\n",
              "\n",
              "      for await (const message of channel.messages) {\n",
              "        // Send a message to notify the kernel that we're ready.\n",
              "        channel.send({})\n",
              "        if (message.buffers) {\n",
              "          for (const buffer of message.buffers) {\n",
              "            buffers.push(buffer);\n",
              "            downloaded += buffer.byteLength;\n",
              "            progress.value = downloaded;\n",
              "          }\n",
              "        }\n",
              "      }\n",
              "      const blob = new Blob(buffers, {type: 'application/binary'});\n",
              "      const a = document.createElement('a');\n",
              "      a.href = window.URL.createObjectURL(blob);\n",
              "      a.download = filename;\n",
              "      div.appendChild(a);\n",
              "      a.click();\n",
              "      div.remove();\n",
              "    }\n",
              "  "
            ],
            "text/plain": [
              "<IPython.core.display.Javascript object>"
            ]
          },
          "metadata": {}
        },
        {
          "output_type": "display_data",
          "data": {
            "application/javascript": [
              "download(\"download_f794ec18-1c26-464b-baba-45541f89d2be\", \"plot_80.png\", 8733)"
            ],
            "text/plain": [
              "<IPython.core.display.Javascript object>"
            ]
          },
          "metadata": {}
        },
        {
          "output_type": "stream",
          "name": "stdout",
          "text": [
            "epoch 90 has total loss 1.3781364940480267\n"
          ]
        },
        {
          "output_type": "display_data",
          "data": {
            "application/javascript": [
              "\n",
              "    async function download(id, filename, size) {\n",
              "      if (!google.colab.kernel.accessAllowed) {\n",
              "        return;\n",
              "      }\n",
              "      const div = document.createElement('div');\n",
              "      const label = document.createElement('label');\n",
              "      label.textContent = `Downloading \"${filename}\": `;\n",
              "      div.appendChild(label);\n",
              "      const progress = document.createElement('progress');\n",
              "      progress.max = size;\n",
              "      div.appendChild(progress);\n",
              "      document.body.appendChild(div);\n",
              "\n",
              "      const buffers = [];\n",
              "      let downloaded = 0;\n",
              "\n",
              "      const channel = await google.colab.kernel.comms.open(id);\n",
              "      // Send a message to notify the kernel that we're ready.\n",
              "      channel.send({})\n",
              "\n",
              "      for await (const message of channel.messages) {\n",
              "        // Send a message to notify the kernel that we're ready.\n",
              "        channel.send({})\n",
              "        if (message.buffers) {\n",
              "          for (const buffer of message.buffers) {\n",
              "            buffers.push(buffer);\n",
              "            downloaded += buffer.byteLength;\n",
              "            progress.value = downloaded;\n",
              "          }\n",
              "        }\n",
              "      }\n",
              "      const blob = new Blob(buffers, {type: 'application/binary'});\n",
              "      const a = document.createElement('a');\n",
              "      a.href = window.URL.createObjectURL(blob);\n",
              "      a.download = filename;\n",
              "      div.appendChild(a);\n",
              "      a.click();\n",
              "      div.remove();\n",
              "    }\n",
              "  "
            ],
            "text/plain": [
              "<IPython.core.display.Javascript object>"
            ]
          },
          "metadata": {}
        },
        {
          "output_type": "display_data",
          "data": {
            "application/javascript": [
              "download(\"download_9638ab20-1f75-4764-b0f6-9526c05ef791\", \"plot_90.png\", 8700)"
            ],
            "text/plain": [
              "<IPython.core.display.Javascript object>"
            ]
          },
          "metadata": {}
        },
        {
          "output_type": "stream",
          "name": "stdout",
          "text": [
            "epoch 100 has total loss 1.319708591557062\n"
          ]
        },
        {
          "output_type": "display_data",
          "data": {
            "application/javascript": [
              "\n",
              "    async function download(id, filename, size) {\n",
              "      if (!google.colab.kernel.accessAllowed) {\n",
              "        return;\n",
              "      }\n",
              "      const div = document.createElement('div');\n",
              "      const label = document.createElement('label');\n",
              "      label.textContent = `Downloading \"${filename}\": `;\n",
              "      div.appendChild(label);\n",
              "      const progress = document.createElement('progress');\n",
              "      progress.max = size;\n",
              "      div.appendChild(progress);\n",
              "      document.body.appendChild(div);\n",
              "\n",
              "      const buffers = [];\n",
              "      let downloaded = 0;\n",
              "\n",
              "      const channel = await google.colab.kernel.comms.open(id);\n",
              "      // Send a message to notify the kernel that we're ready.\n",
              "      channel.send({})\n",
              "\n",
              "      for await (const message of channel.messages) {\n",
              "        // Send a message to notify the kernel that we're ready.\n",
              "        channel.send({})\n",
              "        if (message.buffers) {\n",
              "          for (const buffer of message.buffers) {\n",
              "            buffers.push(buffer);\n",
              "            downloaded += buffer.byteLength;\n",
              "            progress.value = downloaded;\n",
              "          }\n",
              "        }\n",
              "      }\n",
              "      const blob = new Blob(buffers, {type: 'application/binary'});\n",
              "      const a = document.createElement('a');\n",
              "      a.href = window.URL.createObjectURL(blob);\n",
              "      a.download = filename;\n",
              "      div.appendChild(a);\n",
              "      a.click();\n",
              "      div.remove();\n",
              "    }\n",
              "  "
            ],
            "text/plain": [
              "<IPython.core.display.Javascript object>"
            ]
          },
          "metadata": {}
        },
        {
          "output_type": "display_data",
          "data": {
            "application/javascript": [
              "download(\"download_18679d0b-a4bb-4461-8218-21073a4ab0c1\", \"plot_100.png\", 8563)"
            ],
            "text/plain": [
              "<IPython.core.display.Javascript object>"
            ]
          },
          "metadata": {}
        },
        {
          "output_type": "stream",
          "name": "stdout",
          "text": [
            "\n",
            "Final weights:\n",
            "[1.7028723012501872, -0.09064040426016721] -0.1352352402813103\n",
            "Our model predicted 10 out of 10 correctly for 100.0 % accuracy\n"
          ]
        },
        {
          "output_type": "display_data",
          "data": {
            "image/png": "[encoded data removed]",
            "text/plain": [
              "<Figure size 432x288 with 1 Axes>"
            ]
          },
          "metadata": {
            "needs_background": "light"
          }
        }
      ]
    },
    {
      "cell_type": "markdown",
      "metadata": {
        "id": "V66l7_WLlJA4"
      },
      "source": [
        "## Your Turn: 3D Dataset\n",
        "\n",
        "Now that we have implemented the simple single classifier on a 2D dataset, it's your turn. We will give you a 3D dataset and you should seek to train a single neuron classifier on it:"
      ]
    },
    {
      "cell_type": "code",
      "metadata": {
        "colab": {
          "base_uri": "https://localhost:8080/",
          "height": 248
        },
        "id": "m0Rl-PbTljIZ",
        "outputId": "c150074a-3b33-4dba-bfe0-cbb3c4bdc806"
      },
      "source": [
        "# Below is a 3D dataset of binary labeled samples. You should be able to use\n",
        "# the existing functions to train a perceptron that perfectly classifies the\n",
        "# dataset with a decision plane\n",
        "input_data = [\n",
        "     [1,1,1],\n",
        "     [1,1,-1],\n",
        "     [-1,4,-3],\n",
        "     [2,4,-1],\n",
        "     [3.5,6,2],\n",
        "     [4,-6,-7],\n",
        "     [2,-4,2],\n",
        "     [4,-5,-3],\n",
        "     [0,2,0],\n",
        "     [3,2,1],\n",
        "     [4,2,4],\n",
        "     [2.5,6,-1],\n",
        "     [0,0,0],\n",
        "     [2,3,-1]]\n",
        "labels = [0, 0, 0, 1, 1, 0, 0, 1, 0, 1, 1, 1, 0, 1]\n",
        "\n",
        "# This is a utility function for displaying the dataset in a 3D graph\n",
        "# Don't worry about this code for now\n",
        "def plot_3d_dataset(x, y):\n",
        "    x_np_3d = np.array(x)\n",
        "    x_np_3d.reshape(len(x),3)\n",
        "    colors = []\n",
        "    for label in y:\n",
        "        if label == 0:\n",
        "            colors.append(\"red\")\n",
        "        else:\n",
        "            colors.append(\"blue\")\n",
        "    fig = plt.figure()\n",
        "    ax = plt.axes(projection='3d')\n",
        "    ax.scatter3D(x_np_3d[...,0], x_np_3d[...,1],x_np_3d[...,2], color = colors)\n",
        "    return ax\n",
        "\n",
        "# This is a utility function for displaying the 3D decision boundary for a given\n",
        "# set of weights\n",
        "def plot_3d_decision_boundary(ax, w, w_0):\n",
        "  x = np.linspace(-1,4,10)\n",
        "  y = np.linspace(-1,6,10)\n",
        "  X,Y = np.meshgrid(x,y)\n",
        "  Z = (-X*w[0] - Y*w[1] - w_0)/w[2]\n",
        "  surf = ax.plot_surface(X, Y, Z)\n",
        "  ax.set_zlim(-10,5)\n",
        "  return\n",
        "ax = plot_3d_dataset(input_data, labels)\n",
        "plot_3d_decision_boundary(ax, [1,1,1], 4)"
      ],
      "execution_count": null,
      "outputs": [
        {
          "output_type": "display_data",
          "data": {
            "image/png": "[encoded data removed]",
            "text/plain": [
              "<Figure size 432x288 with 1 Axes>"
            ]
          },
          "metadata": {
            "needs_background": "light"
          }
        }
      ]
    },
    {
      "cell_type": "code",
      "metadata": {
        "id": "aRY96wvfbF5K"
      },
      "source": [
        "# TODO: Please fill in the following code to come up with a set of weights\n",
        "# that classify the dataset to 90% accuracy or better:\n",
        "w_0 = ...\n",
        "w = ...\n",
        "\n",
        "# YOUR CODE HERE\n",
        "\n",
        "# print(\"\\nFinal weights:\")\n",
        "# print(w, w_0)\n",
        "# evaluate_classification_accuracy(...)\n",
        "# ax = plot_3d_dataset(input_data, labels)\n",
        "# plot_3d_decision_boundary(ax, w, w_0)"
      ],
      "execution_count": null,
      "outputs": []
    },
    {
      "cell_type": "markdown",
      "metadata": {
        "id": "65dCyuTMljyw"
      },
      "source": [
        "## Solution to 3D Dataset Example"
      ]
    },
    {
      "cell_type": "code",
      "metadata": {
        "colab": {
          "base_uri": "https://localhost:8080/",
          "height": 526
        },
        "id": "p6wDZ9s0bh3u",
        "outputId": "236b8aeb-8341-4d43-e8c1-df4c5d9fd044"
      },
      "source": [
        "w_0 = 0.1\n",
        "w = [0.1, 0.1, 0.1]\n",
        "\n",
        "#random.seed(123)\n",
        "#w_0 = random.gauss(0,1)\n",
        "#w = [random.gauss(0,1) for i in range(3)]\n",
        "\n",
        "learning_rate = 0.01\n",
        "epochs = 101\n",
        "\n",
        "w, w_0 = train_model_NLL_loss(single_neuron_classification_model, w, w_0,\n",
        "                              input_data, labels,\n",
        "                              learning_rate, epochs)\n",
        "print(\"\\nFinal weights:\")\n",
        "print(w, w_0)\n",
        "evaluate_classification_accuracy(single_neuron_classification_model, w, w_0, input_data, labels)\n",
        "ax = plot_3d_dataset(input_data, labels)\n",
        "plot_3d_decision_boundary(ax, w, w_0)"
      ],
      "execution_count": null,
      "outputs": [
        {
          "output_type": "stream",
          "name": "stdout",
          "text": [
            "epoch 0 has total loss 8.363485666615288\n",
            "epoch 10 has total loss 7.129679198130538\n",
            "epoch 20 has total loss 6.513824362841735\n",
            "epoch 30 has total loss 6.013497796393884\n",
            "epoch 40 has total loss 5.588910141366436\n",
            "epoch 50 has total loss 5.224544288901733\n",
            "epoch 60 has total loss 4.909687253968319\n",
            "epoch 70 has total loss 4.635809135238037\n",
            "epoch 80 has total loss 4.395976969470983\n",
            "epoch 90 has total loss 4.1845562286780265\n",
            "epoch 100 has total loss 3.9969710083658487\n",
            "\n",
            "Final weights:\n",
            "[1.052996389310848, 0.3737356267223445, 0.18169076458208044] -1.5713639671880502\n",
            "Misclassify [1, 1, 1] 0 with activation 0.5092636405978489\n",
            "Our model predicted 13 out of 14 correctly for 92.85714285714286 % accuracy\n"
          ]
        },
        {
          "output_type": "display_data",
          "data": {
            "image/png": "[encoded data removed]",
            "text/plain": [
              "<Figure size 432x288 with 1 Axes>"
            ]
          },
          "metadata": {
            "needs_background": "light"
          }
        }
      ]
    },
    {
      "cell_type": "markdown",
      "metadata": {
        "id": "oDkrb7GElrbF"
      },
      "source": [
        "## Non Linearly Separable Data\n",
        "\n",
        "From the example you completed above we can see that given the right training parameters, our single neuron classifier can perfectly classify any linearly separable dataset for any input dimension. This is extremely powerful; however, it is also limiting as most things we care about in the real world are not linearly separable (e.g., images, text, complex financial datasets).\n",
        "\n",
        "We can see a non linearly separable dataset as below, created by changing the labels of one of the datapoints in our previous examples. If our dataset is not linearly separable, then the single neuron classifier will not be able to find a perfect classifier. This is an important limitation of this very shallow neural network consisting of only a single neuron. However, our gradient descent training algorithm will still try to find good weights to minimize the overall loss, and do a fairly good job.  "
      ]
    },
    {
      "cell_type": "code",
      "metadata": {
        "colab": {
          "base_uri": "https://localhost:8080/",
          "height": 265
        },
        "id": "bmqfYbUFlzaj",
        "outputId": "97a31447-7491-4955-b5be-2dbd9c3d2062"
      },
      "source": [
        "input_data = [\n",
        "     [1, 1],\n",
        "     [1, 5],\n",
        "     [-2, 3],\n",
        "     [3, -4],\n",
        "     [4.5, 2],\n",
        "     [0, 1],\n",
        "     [-4, -4],\n",
        "     [-1, 2],\n",
        "     [4, -7],\n",
        "     [-1, 8]]\n",
        "# By changing the label of our 4th input [4.5, 2],\n",
        "# we make this dataset not linearly separable\n",
        "labels = [1, 1, 0, 1, 0, 0, 0, 0, 1, 0]\n",
        "\n",
        "plot_dataset_2D(input_data, labels)"
      ],
      "execution_count": null,
      "outputs": [
        {
          "output_type": "display_data",
          "data": {
            "image/png": "[encoded data removed]",
            "text/plain": [
              "<Figure size 432x288 with 1 Axes>"
            ]
          },
          "metadata": {
            "needs_background": "light"
          }
        }
      ]
    },
    {
      "cell_type": "code",
      "metadata": {
        "colab": {
          "base_uri": "https://localhost:8080/",
          "height": 577
        },
        "id": "3rMAe60A7GTJ",
        "outputId": "63c57344-ff8c-4c30-e158-474662d1b8e3"
      },
      "source": [
        "# No matter what parameters we choose, the single neuron classifier will not be able to\n",
        "# train a perfect classifier.\n",
        "# weights good, learning rate small, epochs normal\n",
        "w_0 = 0.1\n",
        "w = [0.1, 0.1]\n",
        "learning_rate = 0.01\n",
        "epochs = 101\n",
        "\n",
        "w, w_0 = train_model_NLL_loss(single_neuron_classification_model, w, w_0,\n",
        "                              input_data, labels,\n",
        "                              learning_rate, epochs)\n",
        "print(\"\\nFinal weights:\")\n",
        "print(w, w_0)\n",
        "evaluate_classification_accuracy(single_neuron_classification_model, w, w_0, input_data, labels)\n",
        "plot_dataset_2D(input_data, labels)\n",
        "plot_decision_boundary_2D(w, w_0)"
      ],
      "execution_count": null,
      "outputs": [
        {
          "output_type": "stream",
          "name": "stdout",
          "text": [
            "epoch 0 has total loss 7.1243063294158455\n",
            "epoch 10 has total loss 5.314006910645079\n",
            "epoch 20 has total loss 5.206572113401352\n",
            "epoch 30 has total loss 5.149470079687033\n",
            "epoch 40 has total loss 5.109997902040252\n",
            "epoch 50 has total loss 5.081327640477265\n",
            "epoch 60 has total loss 5.060334092542722\n",
            "epoch 70 has total loss 5.0449323579547345\n",
            "epoch 80 has total loss 5.033617113584548\n",
            "epoch 90 has total loss 5.025292821561975\n",
            "epoch 100 has total loss 5.019162298596705\n",
            "\n",
            "Final weights:\n",
            "[0.430791235345579, -0.18136382362069903] -0.4757743787113749\n",
            "Misclassify [1, 1] 1 with activation 0.4436536170610267\n",
            "Misclassify [1, 5] 1 with activation 0.27852251634038405\n",
            "Misclassify [4.5, 2] 0 with activation 0.7502710671457287\n",
            "Our model predicted 7 out of 10 correctly for 70.0 % accuracy\n"
          ]
        },
        {
          "output_type": "display_data",
          "data": {
            "image/png": "[encoded data removed]",
            "text/plain": [
              "<Figure size 432x288 with 1 Axes>"
            ]
          },
          "metadata": {
            "needs_background": "light"
          }
        }
      ]
    },
    {
      "cell_type": "markdown",
      "metadata": {
        "id": "K0_Fzbmo_Oa_"
      },
      "source": [
        "## Multi Layer Perceptrons -- Towards Deeper Neural Networks\n",
        "\n",
        "Now that we are faced with a task that our simple single neuron models cannot tackle, we must introduce some new concepts. In order to handle this non-linearly separable dataset (and other more complicated relationship), we will need to extend our single neuron network into a more sophisticated neural network: a multilayer perceptron (MLP). Our single neuron will be an important building block toward deep neural networks, with additional extensions.\n",
        "\n",
        "Rather than implement more complicated neural networks directly in base Python, we will also shift to using existing machine learning libraries that implement **multiple layers**, as well as enable each layer to have **multiple nodes**. Importantly, these libraries still use the fundamental notions we have implemented above: be able to calculate both the layer output **and** the gradient of the layer output with respect to the weights, so that gradient descent can still be used to adjust and learn the network weights during training."
      ]
    }
  ]
}